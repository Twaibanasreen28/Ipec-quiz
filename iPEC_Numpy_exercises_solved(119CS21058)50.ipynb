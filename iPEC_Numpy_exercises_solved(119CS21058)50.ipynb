{
 "cells": [
  {
   "cell_type": "code",
   "execution_count": null,
   "metadata": {
    "id": "d6vUI-4qzHpd"
   },
   "outputs": [],
   "source": [
    "%run initialise.py"
   ]
  },
  {
   "cell_type": "markdown",
   "metadata": {
    "id": "N4LHid37zHpl"
   },
   "source": [
    "#### 1. Import the numpy package under the name `np` (★☆☆)"
   ]
  },
  {
   "cell_type": "code",
   "execution_count": null,
   "metadata": {
    "id": "IbROYy1ozHpp"
   },
   "outputs": [],
   "source": [
    "import numpy as np"
   ]
  },
  {
   "cell_type": "markdown",
   "metadata": {
    "id": "Cp51LRMszHpq"
   },
   "source": [
    "#### 2. Print the numpy version and the configuration (★☆☆)"
   ]
  },
  {
   "cell_type": "code",
   "execution_count": null,
   "metadata": {
    "id": "z6un0VmbzHps",
    "outputId": "96e887db-89f9-4cdb-e273-df59a4b4cd87"
   },
   "outputs": [
    {
     "name": "stdout",
     "output_type": "stream",
     "text": [
      "1.19.5\n",
      "blas_mkl_info:\n",
      "  NOT AVAILABLE\n",
      "blis_info:\n",
      "  NOT AVAILABLE\n",
      "openblas_info:\n",
      "    library_dirs = ['D:\\\\a\\\\1\\\\s\\\\numpy\\\\build\\\\openblas_info']\n",
      "    libraries = ['openblas_info']\n",
      "    language = f77\n",
      "    define_macros = [('HAVE_CBLAS', None)]\n",
      "blas_opt_info:\n",
      "    library_dirs = ['D:\\\\a\\\\1\\\\s\\\\numpy\\\\build\\\\openblas_info']\n",
      "    libraries = ['openblas_info']\n",
      "    language = f77\n",
      "    define_macros = [('HAVE_CBLAS', None)]\n",
      "lapack_mkl_info:\n",
      "  NOT AVAILABLE\n",
      "openblas_lapack_info:\n",
      "    library_dirs = ['D:\\\\a\\\\1\\\\s\\\\numpy\\\\build\\\\openblas_lapack_info']\n",
      "    libraries = ['openblas_lapack_info']\n",
      "    language = f77\n",
      "    define_macros = [('HAVE_CBLAS', None)]\n",
      "lapack_opt_info:\n",
      "    library_dirs = ['D:\\\\a\\\\1\\\\s\\\\numpy\\\\build\\\\openblas_lapack_info']\n",
      "    libraries = ['openblas_lapack_info']\n",
      "    language = f77\n",
      "    define_macros = [('HAVE_CBLAS', None)]\n"
     ]
    }
   ],
   "source": [
    "print(np.__version__)\n",
    "np.show_config()"
   ]
  },
  {
   "cell_type": "markdown",
   "metadata": {
    "id": "j3tU16eKzHpu"
   },
   "source": [
    "#### 3. Create a null vector of size 10 (★☆☆)"
   ]
  },
  {
   "cell_type": "code",
   "execution_count": null,
   "metadata": {
    "id": "oiARV6FIzHpv",
    "outputId": "2c6772b2-5241-407d-d62c-cd72b5f05420"
   },
   "outputs": [
    {
     "name": "stdout",
     "output_type": "stream",
     "text": [
      "[0. 0. 0. 0. 0. 0. 0. 0. 0. 0.]\n"
     ]
    }
   ],
   "source": [
    "Z = np.zeros(10)\n",
    "print(Z)"
   ]
  },
  {
   "cell_type": "markdown",
   "metadata": {
    "id": "k3vWjff6zHpx"
   },
   "source": [
    "#### 4. How to find the memory size of any array (★☆☆)"
   ]
  },
  {
   "cell_type": "code",
   "execution_count": null,
   "metadata": {
    "id": "tQ-k46iezHpy",
    "outputId": "e0c01b77-9ec2-46cc-eb9c-605af831fb19"
   },
   "outputs": [
    {
     "name": "stdout",
     "output_type": "stream",
     "text": [
      "800 bytes\n"
     ]
    }
   ],
   "source": [
    "Z = np.zeros((10,10))\n",
    "print(\"%d bytes\" % (Z.size * Z.itemsize))"
   ]
  },
  {
   "cell_type": "markdown",
   "metadata": {
    "id": "8k6i3FIQzHpz"
   },
   "source": [
    "#### 5. How to get the documentation of the numpy add function from the command line? (★☆☆)"
   ]
  },
  {
   "cell_type": "code",
   "execution_count": 2,
   "metadata": {
    "id": "rztr9hYDzHp0"
   },
   "outputs": [
    {
     "name": "stdout",
     "output_type": "stream",
     "text": [
      "add(x1, x2, /, out=None, *, where=True, casting='same_kind', order='K', dtype=None, subok=True[, signature, extobj])\n",
      "\n",
      "Add arguments element-wise.\n",
      "\n",
      "Parameters\n",
      "----------\n",
      "x1, x2 : array_like\n",
      "    The arrays to be added.\n",
      "    If ``x1.shape != x2.shape``, they must be broadcastable to a common\n",
      "    shape (which becomes the shape of the output).\n",
      "out : ndarray, None, or tuple of ndarray and None, optional\n",
      "    A location into which the result is stored. If provided, it must have\n",
      "    a shape that the inputs broadcast to. If not provided or None,\n",
      "    a freshly-allocated array is returned. A tuple (possible only as a\n",
      "    keyword argument) must have length equal to the number of outputs.\n",
      "where : array_like, optional\n",
      "    This condition is broadcast over the input. At locations where the\n",
      "    condition is True, the `out` array will be set to the ufunc result.\n",
      "    Elsewhere, the `out` array will retain its original value.\n",
      "    Note that if an uninitialized `out` array is created via the default\n",
      "    ``out=None``, locations within it where the condition is False will\n",
      "    remain uninitialized.\n",
      "**kwargs\n",
      "    For other keyword-only arguments, see the\n",
      "    :ref:`ufunc docs <ufuncs.kwargs>`.\n",
      "\n",
      "Returns\n",
      "-------\n",
      "add : ndarray or scalar\n",
      "    The sum of `x1` and `x2`, element-wise.\n",
      "    This is a scalar if both `x1` and `x2` are scalars.\n",
      "\n",
      "Notes\n",
      "-----\n",
      "Equivalent to `x1` + `x2` in terms of array broadcasting.\n",
      "\n",
      "Examples\n",
      "--------\n",
      ">>> np.add(1.0, 4.0)\n",
      "5.0\n",
      ">>> x1 = np.arange(9.0).reshape((3, 3))\n",
      ">>> x2 = np.arange(3.0)\n",
      ">>> np.add(x1, x2)\n",
      "array([[  0.,   2.,   4.],\n",
      "       [  3.,   5.,   7.],\n",
      "       [  6.,   8.,  10.]])\n",
      "\n",
      "The ``+`` operator can be used as a shorthand for ``np.add`` on ndarrays.\n",
      "\n",
      ">>> x1 = np.arange(9.0).reshape((3, 3))\n",
      ">>> x2 = np.arange(3.0)\n",
      ">>> x1 + x2\n",
      "array([[ 0.,  2.,  4.],\n",
      "       [ 3.,  5.,  7.],\n",
      "       [ 6.,  8., 10.]])\n",
      "None\n"
     ]
    }
   ],
   "source": [
    "import numpy as np\n",
    "print(np.info(np.add))"
   ]
  },
  {
   "cell_type": "markdown",
   "metadata": {
    "id": "sbduPKlhzHp0"
   },
   "source": [
    "#### 6. Create a null vector of size 10 but the fifth value which is 1 (★☆☆)"
   ]
  },
  {
   "cell_type": "code",
   "execution_count": 3,
   "metadata": {
    "id": "T6IZihsJzHp0"
   },
   "outputs": [
    {
     "name": "stdout",
     "output_type": "stream",
     "text": [
      "[0. 0. 0. 0. 1. 0. 0. 0. 0. 0.]\n"
     ]
    }
   ],
   "source": [
    "null_vector=np.zeros(10)\n",
    "null_vector[4]=1\n",
    "print(null_vector)"
   ]
  },
  {
   "cell_type": "markdown",
   "metadata": {
    "id": "hfLdbW61zHp1"
   },
   "source": [
    "#### 7. Create a vector with values ranging from 10 to 49 (★☆☆)"
   ]
  },
  {
   "cell_type": "code",
   "execution_count": 4,
   "metadata": {
    "id": "NmTdlzJizHp1"
   },
   "outputs": [
    {
     "name": "stdout",
     "output_type": "stream",
     "text": [
      "[10 11 12 13 14 15 16 17 18 19 20 21 22 23 24 25 26 27 28 29 30 31 32 33\n",
      " 34 35 36 37 38 39 40 41 42 43 44 45 46 47 48 49]\n"
     ]
    }
   ],
   "source": [
    "my_vector=np.arange(10,50)\n",
    "print(my_vector)"
   ]
  },
  {
   "cell_type": "markdown",
   "metadata": {
    "id": "fklsLIlKzHp1"
   },
   "source": [
    "#### 8. Reverse a vector (first element becomes last) (★☆☆)"
   ]
  },
  {
   "cell_type": "code",
   "execution_count": 5,
   "metadata": {
    "id": "zyki25PczHp2"
   },
   "outputs": [
    {
     "name": "stdout",
     "output_type": "stream",
     "text": [
      "[5, 4, 3, 2, 1]\n"
     ]
    }
   ],
   "source": [
    "original_vector=[1,2,3,4,5]\n",
    "reversed_vector=original_vector[::-1]\n",
    "print(reversed_vector)"
   ]
  },
  {
   "cell_type": "markdown",
   "metadata": {
    "id": "x6VEvtzyzHp2"
   },
   "source": [
    "#### 9. Create a 3x3 matrix with values ranging from 0 to 8 (★☆☆)"
   ]
  },
  {
   "cell_type": "code",
   "execution_count": 6,
   "metadata": {
    "id": "EZNzmMKfzHp3"
   },
   "outputs": [
    {
     "name": "stdout",
     "output_type": "stream",
     "text": [
      "[0, 1, 2]\n",
      "[3, 4, 5]\n",
      "[6, 7, 8]\n"
     ]
    }
   ],
   "source": [
    "matrix=[[0,1,2],[3,4,5],[6,7,8]]\n",
    "for row in matrix:\n",
    "    print(row)"
   ]
  },
  {
   "cell_type": "markdown",
   "metadata": {
    "id": "VmyuZrhlzHp3"
   },
   "source": [
    "#### 10. Find indices of non-zero elements from [1,2,0,0,4,0] (★☆☆)"
   ]
  },
  {
   "cell_type": "code",
   "execution_count": 7,
   "metadata": {
    "id": "KLK6-CaUzHp3"
   },
   "outputs": [
    {
     "name": "stdout",
     "output_type": "stream",
     "text": [
      "[0, 1, 4]\n"
     ]
    }
   ],
   "source": [
    "my_list=[1,2,0,0,4,0]\n",
    "non_zero_indices=[index for index, value in enumerate(my_list)if value!=0]\n",
    "print(non_zero_indices)"
   ]
  },
  {
   "cell_type": "markdown",
   "metadata": {
    "id": "ObfXi75izHp3"
   },
   "source": [
    "#### 11. Create a 3x3 identity matrix (★☆☆)"
   ]
  },
  {
   "cell_type": "code",
   "execution_count": 8,
   "metadata": {
    "id": "scvZobD9zHp3"
   },
   "outputs": [
    {
     "name": "stdout",
     "output_type": "stream",
     "text": [
      "[1, 0, 0]\n",
      "[0, 1, 0]\n",
      "[0, 0, 1]\n"
     ]
    }
   ],
   "source": [
    "identity_matrix=[[1,0,0],[0,1,0],[0,0,1]]\n",
    "for row in identity_matrix:\n",
    "    print(row)"
   ]
  },
  {
   "cell_type": "markdown",
   "metadata": {
    "id": "B7Asuo6tzHp4"
   },
   "source": [
    "#### 12. Create a 3x3x3 array with random values (★☆☆)"
   ]
  },
  {
   "cell_type": "code",
   "execution_count": 9,
   "metadata": {
    "id": "7aa8RQG8zHp4"
   },
   "outputs": [
    {
     "name": "stdout",
     "output_type": "stream",
     "text": [
      "[[[0.99234082 0.25322675 0.18360471]\n",
      "  [0.1860774  0.78485868 0.28240704]\n",
      "  [0.36724211 0.91151949 0.46455961]]\n",
      "\n",
      " [[0.71422614 0.78904864 0.1662735 ]\n",
      "  [0.44829335 0.75546556 0.66583988]\n",
      "  [0.49268632 0.21704477 0.91833447]]\n",
      "\n",
      " [[0.31562369 0.69047391 0.24693634]\n",
      "  [0.15264815 0.63920932 0.83904909]\n",
      "  [0.71883984 0.88731087 0.83864753]]]\n"
     ]
    }
   ],
   "source": [
    "random_array=np.random.rand(3,3,3)\n",
    "print(random_array)"
   ]
  },
  {
   "cell_type": "markdown",
   "metadata": {
    "id": "MGVkx6pczHp4"
   },
   "source": [
    "#### 13. Create a 10x10 array with random values and find the minimum and maximum values (★☆☆)"
   ]
  },
  {
   "cell_type": "code",
   "execution_count": 11,
   "metadata": {
    "id": "89D_awSizHp5"
   },
   "outputs": [
    {
     "name": "stdout",
     "output_type": "stream",
     "text": [
      "minimum value: 0.009486398164261334\n",
      "maximum value: 0.9895835001145838\n"
     ]
    }
   ],
   "source": [
    "random_array=np.random.rand(10,10)\n",
    "min_value=np.min(random_array)\n",
    "max_value=np.max(random_array)\n",
    "print(\"minimum value:\",min_value)\n",
    "print(\"maximum value:\",max_value)"
   ]
  },
  {
   "cell_type": "markdown",
   "metadata": {
    "id": "BO8x108gzHp5"
   },
   "source": [
    "#### 14. Create a random vector of size 30 and find the mean value (★☆☆)"
   ]
  },
  {
   "cell_type": "code",
   "execution_count": 12,
   "metadata": {
    "id": "GL1_S5qczHp5"
   },
   "outputs": [
    {
     "name": "stdout",
     "output_type": "stream",
     "text": [
      "mean value: 0.48610755760841556\n"
     ]
    }
   ],
   "source": [
    "random_vector=np.random.rand(30)\n",
    "mean_value=np.mean(random_vector)\n",
    "print(\"mean value:\",mean_value)"
   ]
  },
  {
   "cell_type": "markdown",
   "metadata": {
    "id": "HDb6T3BszHp5"
   },
   "source": [
    "#### 15. Create a 2d array with 1 on the border and 0 inside (★☆☆)"
   ]
  },
  {
   "cell_type": "code",
   "execution_count": 13,
   "metadata": {
    "id": "8fM6xuJHzHp6"
   },
   "outputs": [
    {
     "name": "stdout",
     "output_type": "stream",
     "text": [
      "[1, 1, 1, 1, 1]\n",
      "[1, 0, 0, 0, 1]\n",
      "[1, 0, 0, 0, 1]\n",
      "[1, 0, 0, 0, 1]\n",
      "[1, 1, 1, 1, 1]\n"
     ]
    }
   ],
   "source": [
    "def create_border_array(rows,cols):\n",
    "    array=[[0 for _ in range(cols)]for _ in range(rows)]\n",
    "    for i in range(rows):\n",
    "        for j in range(cols):\n",
    "            if i==0 or i==rows-1 or j==0 or j==cols-1:\n",
    "                array[i][j]=1\n",
    "    return array\n",
    "border_array=create_border_array(5,5)\n",
    "for row in border_array:\n",
    "    print(row)"
   ]
  },
  {
   "cell_type": "markdown",
   "metadata": {
    "id": "h7h59bBSzHp6"
   },
   "source": [
    "#### 16. How to add a border (filled with 0's) around an existing array? (★☆☆)"
   ]
  },
  {
   "cell_type": "code",
   "execution_count": 15,
   "metadata": {
    "id": "KV4s4S7azHp6"
   },
   "outputs": [
    {
     "name": "stdout",
     "output_type": "stream",
     "text": [
      "[[0 0 0 0 0]\n",
      " [0 1 2 3 0]\n",
      " [0 4 5 6 0]\n",
      " [0 7 8 9 0]\n",
      " [0 0 0 0 0]]\n"
     ]
    }
   ],
   "source": [
    "my_array=np.array([[1,2,3],[4,5,6],[7,8,9]])\n",
    "rows_to_add=1\n",
    "cols_to_add=1\n",
    "new_shape=(my_array.shape[0] + 2 * rows_to_add ,my_array.shape[1] + 2 * cols_to_add)\n",
    "new_array=np.zeros(new_shape,dtype=my_array.dtype)\n",
    "new_array[rows_to_add:rows_to_add+my_array.shape[0],cols_to_add:cols_to_add+my_array.shape[1]]=my_array\n",
    "print(new_array)"
   ]
  },
  {
   "cell_type": "markdown",
   "metadata": {
    "id": "Kog1EadpzHp6"
   },
   "source": [
    "#### 17. What is the result of the following expression? (★☆☆)\n",
    "```python\n",
    "0 * np.nan\n",
    "np.nan == np.nan\n",
    "np.inf > np.nan\n",
    "np.nan - np.nan\n",
    "np.nan in set([np.nan])\n",
    "0.3 == 3 * 0.1\n",
    "```"
   ]
  },
  {
   "cell_type": "code",
   "execution_count": 16,
   "metadata": {
    "id": "Hcr_S5p4zHp7"
   },
   "outputs": [
    {
     "name": "stdout",
     "output_type": "stream",
     "text": [
      "Result 1: nan\n",
      "Result 2: False\n",
      "Result 3: '>' not supported between instances of 'function' and 'float'\n",
      "Result 4: nan\n",
      "Result 5: True\n",
      "Result 6: False\n"
     ]
    }
   ],
   "source": [
    "#Expression 1: 0*np.nan\n",
    "result1= 0*np.nan\n",
    "\n",
    "#Expression 2: np.nan == np.nan\n",
    "result2= np.nan == np.nan\n",
    "\n",
    "#Expression 3: np.info > np.nan (will raise a TypeError)\n",
    "try:\n",
    "    result3 = np.info > np.nan\n",
    "except TypeError as e:\n",
    "    result3=str(e)\n",
    "    \n",
    "#Expression 4: np.nan - np.nan\n",
    "result4=np.nan - np.nan\n",
    "\n",
    "#Expression 5: np.nan in set([np.nan])\n",
    "result5 = np.nan in set([np.nan])\n",
    "\n",
    "#Expression 6: 0.3 == 3*0.1\n",
    "result6= 0.3 == 3*0.1\n",
    "\n",
    "#print results\n",
    "print(\"Result 1:\",result1)\n",
    "print(\"Result 2:\",result2)\n",
    "print(\"Result 3:\",result3)\n",
    "print(\"Result 4:\",result4)\n",
    "print(\"Result 5:\",result5)\n",
    "print(\"Result 6:\",result6)"
   ]
  },
  {
   "cell_type": "markdown",
   "metadata": {
    "id": "MEvnL0ORzHp7"
   },
   "source": [
    "#### 18. Create a 5x5 matrix with values 1,2,3,4 just below the diagonal (★☆☆)"
   ]
  },
  {
   "cell_type": "code",
   "execution_count": 18,
   "metadata": {
    "id": "gPBLDy_WzHp7"
   },
   "outputs": [
    {
     "name": "stdout",
     "output_type": "stream",
     "text": [
      "[[0. 0. 0. 0. 0.]\n",
      " [1. 0. 0. 0. 0.]\n",
      " [0. 2. 0. 0. 0.]\n",
      " [0. 0. 3. 0. 0.]\n",
      " [0. 0. 0. 4. 0.]]\n"
     ]
    }
   ],
   "source": [
    "matrix=np.zeros((5,5))\n",
    "np.fill_diagonal(matrix[1:],[1,2,3,4])\n",
    "print(matrix)"
   ]
  },
  {
   "cell_type": "markdown",
   "metadata": {
    "id": "2kKoL3y_zHp7"
   },
   "source": [
    "#### 19. Create a 8x8 matrix and fill it with a checkerboard pattern (★☆☆)"
   ]
  },
  {
   "cell_type": "code",
   "execution_count": 19,
   "metadata": {
    "id": "B5TznOl_zHp8"
   },
   "outputs": [
    {
     "name": "stdout",
     "output_type": "stream",
     "text": [
      "[[1 0 1 0 1 0 1 0]\n",
      " [0 1 0 1 0 1 0 1]\n",
      " [1 0 1 0 1 0 1 0]\n",
      " [0 1 0 1 0 1 0 1]\n",
      " [1 0 1 0 1 0 1 0]\n",
      " [0 1 0 1 0 1 0 1]\n",
      " [1 0 1 0 1 0 1 0]\n",
      " [0 1 0 1 0 1 0 1]]\n"
     ]
    }
   ],
   "source": [
    "matrix=np.zeros((8,8),dtype=int)\n",
    "matrix[::2, ::2]=1\n",
    "matrix[1::2, 1::2]=1\n",
    "print(matrix)"
   ]
  },
  {
   "cell_type": "markdown",
   "metadata": {
    "id": "kkSCAhKFzHqS"
   },
   "source": [
    "#### 20. Consider a (6,7,8) shape array, what is the index (x,y,z) of the 100th element?"
   ]
  },
  {
   "cell_type": "code",
   "execution_count": 21,
   "metadata": {
    "id": "NSOsSrR9zHqT"
   },
   "outputs": [
    {
     "name": "stdout",
     "output_type": "stream",
     "text": [
      "index (x,y,z) of the 100th element: (1, 5, 4)\n"
     ]
    }
   ],
   "source": [
    "shape=(6,7,8)\n",
    "element_index=100\n",
    "indices=np.unravel_index(element_index,shape)\n",
    "print(\"index (x,y,z) of the 100th element:\",indices)"
   ]
  },
  {
   "cell_type": "markdown",
   "metadata": {
    "id": "672xNebGzHqT"
   },
   "source": [
    "#### 21. Create a checkerboard 8x8 matrix using the tile function (★☆☆)"
   ]
  },
  {
   "cell_type": "code",
   "execution_count": 23,
   "metadata": {
    "id": "FZrJJVa5zHqT"
   },
   "outputs": [
    {
     "name": "stdout",
     "output_type": "stream",
     "text": [
      "[[0 1 0 1 0 1 0 1]\n",
      " [1 0 1 0 1 0 1 0]\n",
      " [0 1 0 1 0 1 0 1]\n",
      " [1 0 1 0 1 0 1 0]\n",
      " [0 1 0 1 0 1 0 1]\n",
      " [1 0 1 0 1 0 1 0]\n",
      " [0 1 0 1 0 1 0 1]\n",
      " [1 0 1 0 1 0 1 0]]\n"
     ]
    }
   ],
   "source": [
    "checkboard_2x2=np.array([[0,1],[1,0]])\n",
    "checkboard_8x8=np.tile(checkboard_2x2,(4,4))\n",
    "print(checkboard_8x8)"
   ]
  },
  {
   "cell_type": "markdown",
   "metadata": {
    "id": "_qbpw8xSzHqU"
   },
   "source": [
    "#### 22. Normalize a 5x5 random matrix (★☆☆)"
   ]
  },
  {
   "cell_type": "code",
   "execution_count": 26,
   "metadata": {
    "id": "0Sjt6HLUzHqU"
   },
   "outputs": [
    {
     "name": "stdout",
     "output_type": "stream",
     "text": [
      "original matrix:\n",
      "[[0.51270505 0.78862157 0.61795225 0.51157878 0.41124697]\n",
      " [0.44985348 0.10503516 0.35457851 0.28223053 0.1990917 ]\n",
      " [0.64815178 0.36684323 0.04630518 0.35438389 0.11688285]\n",
      " [0.46999179 0.03097467 0.84647056 0.18591236 0.3089088 ]\n",
      " [0.02944403 0.06505105 0.73502827 0.08722024 0.62582375]]\n",
      "\n",
      "Normalized matrix:\n",
      "[[ 0.59573506  1.71625532  1.02315281  0.59116117  0.18370522]\n",
      " [ 0.34048954 -1.05984676 -0.04643015 -0.34024141 -0.67787524]\n",
      " [ 1.14579564  0.00337791 -1.29835418 -0.04722054 -1.0117323 ]\n",
      " [ 0.42227289 -1.36061266  1.95118495 -0.73139764 -0.23189871]\n",
      " [-1.36682871 -1.22222559  1.49860839 -1.13219465  1.05511964]]\n"
     ]
    }
   ],
   "source": [
    "random_matrix=np.random.rand(5,5)\n",
    "mean=np.mean(random_matrix)\n",
    "std=np.std(random_matrix)\n",
    "normalized_matrix=(random_matrix-mean)/std\n",
    "print(\"original matrix:\")\n",
    "print(random_matrix)\n",
    "print(\"\\nNormalized matrix:\")\n",
    "print(normalized_matrix)"
   ]
  },
  {
   "cell_type": "markdown",
   "metadata": {
    "id": "jLzeI1W7zHqU"
   },
   "source": [
    "#### 23. Create a custom dtype that describes a color as four unsigned bytes (RGBA) (★☆☆)"
   ]
  },
  {
   "cell_type": "code",
   "execution_count": 27,
   "metadata": {
    "id": "z2vSJ4oWzHqV"
   },
   "outputs": [
    {
     "name": "stdout",
     "output_type": "stream",
     "text": [
      "Red component of the first color🔴: 255\n",
      "Alpha component of the last color🟡: 128\n",
      "RGBA Colors🔴🟢🔵🟡:\n",
      "[(255,   0,   0, 255) (  0, 255,   0, 255) (  0,   0, 255, 255)\n",
      " (255, 255,   0, 128)]\n"
     ]
    }
   ],
   "source": [
    "rgba_dtype=np.dtype([('R',np.uint8),('G',np.uint8),('B',np.uint8),('A',np.uint8)])\n",
    "colors=np.array([(255,0,0,255),(0,255,0,255),(0,0,255,255),(255,255,0,128)],dtype=rgba_dtype)\n",
    "print(\"Red component of the first color🔴:\",colors['R'][0])\n",
    "print(\"Alpha component of the last color🟡:\",colors['A'][-1])\n",
    "print(\"RGBA Colors🔴🟢🔵🟡:\")\n",
    "print(colors)"
   ]
  },
  {
   "cell_type": "markdown",
   "metadata": {
    "id": "QLriiFKkzHqV"
   },
   "source": [
    "#### 24. Multiply a 5x3 matrix by a 3x2 matrix (real matrix product) (★☆☆)"
   ]
  },
  {
   "cell_type": "code",
   "execution_count": 28,
   "metadata": {
    "id": "oe090fGdzHqV"
   },
   "outputs": [
    {
     "name": "stdout",
     "output_type": "stream",
     "text": [
      "Result using np.dot(): [[ 22  28]\n",
      " [ 49  64]\n",
      " [ 76 100]\n",
      " [103 136]\n",
      " [130 172]]\n",
      "\n",
      "Result using @ operator: [[ 22  28]\n",
      " [ 49  64]\n",
      " [ 76 100]\n",
      " [103 136]\n",
      " [130 172]]\n"
     ]
    }
   ],
   "source": [
    "matrix_A=np.array([[1,2,3],[4,5,6],[7,8,9],[10,11,12],[13,14,15]])\n",
    "matrix_B=np.array([[1,2],[3,4],[5,6]])\n",
    "result_dot=np.dot(matrix_A,matrix_B)\n",
    "result_at=matrix_A @ matrix_B\n",
    "print(\"Result using np.dot():\",result_dot)\n",
    "print(\"\\nResult using @ operator:\",result_at)"
   ]
  },
  {
   "cell_type": "markdown",
   "metadata": {
    "id": "Sg3gx66HzHqW"
   },
   "source": [
    "#### 25. Given a 1D array, negate all elements which are between 3 and 8, in place. (★☆☆)"
   ]
  },
  {
   "cell_type": "code",
   "execution_count": 29,
   "metadata": {
    "id": "NH9LC0YczHqW"
   },
   "outputs": [
    {
     "name": "stdout",
     "output_type": "stream",
     "text": [
      "[ 1  2  3 -4 -5 -6 -7  8  9 10]\n"
     ]
    }
   ],
   "source": [
    "array=np.array([1,2,3,4,5,6,7,8,9,10])\n",
    "array[(array>3)&(array<8)]*=-1\n",
    "print(array)"
   ]
  },
  {
   "cell_type": "markdown",
   "metadata": {
    "id": "OHViMMRyzHqW"
   },
   "source": [
    "#### 26. What is the output of the following script? (★☆☆)\n",
    "```python\n",
    "# Author: Jake VanderPlas\n",
    "\n",
    "print(sum(range(5),-1))\n",
    "from numpy import *\n",
    "print(sum(range(5),-1))\n",
    "```"
   ]
  },
  {
   "cell_type": "code",
   "execution_count": 39,
   "metadata": {
    "id": "RDUrER5czHqW"
   },
   "outputs": [
    {
     "name": "stdout",
     "output_type": "stream",
     "text": [
      "10\n",
      "10\n"
     ]
    }
   ],
   "source": [
    "print(sum(range(5), -1))\n",
    "from numpy import *\n",
    "print(sum(range(5), -1))"
   ]
  },
  {
   "cell_type": "markdown",
   "metadata": {
    "id": "OcRqeCtgzHqX"
   },
   "source": [
    "#### 27. Consider an integer vector Z, which of these expressions are legal? (★☆☆)\n",
    "```python\n",
    "Z**Z\n",
    "2 << Z >> 2\n",
    "Z <- Z\n",
    "1j*Z\n",
    "Z/1/1\n",
    "Z<Z>Z\n",
    "```"
   ]
  },
  {
   "cell_type": "code",
   "execution_count": 4,
   "metadata": {
    "id": "IisqE0rCzHqX"
   },
   "outputs": [
    {
     "name": "stdout",
     "output_type": "stream",
     "text": [
      "1. Exponentiation: [  1   4  27 256]\n",
      "2. Bitwise left shift and right shift: [1 2 4 8]\n",
      "3. Compoarison: [False False False False]\n",
      "4. 1j*z: [0.+1.j 0.+2.j 0.+3.j 0.+4.j]\n",
      "5. Division: [1. 2. 3. 4.]\n"
     ]
    }
   ],
   "source": [
    "import numpy as np\n",
    "z=np.array([1,2,3,4])\n",
    "\n",
    "#Expression 1\n",
    "result1=z**z\n",
    "\n",
    "#Expression 2\n",
    "result2=2 << z >> 2\n",
    "\n",
    "#Expression 3\n",
    "result3= z<z\n",
    "\n",
    "#Expression 4 \n",
    "result4=1j*z\n",
    "\n",
    "#Expression 5\n",
    "result5= z/1/1\n",
    "\n",
    "#Expression 6(Not a valid syntax for vector operations)\n",
    "#result6= z < z > z\n",
    "\n",
    "#print result\n",
    "print(\"1. Exponentiation:\",result1)\n",
    "print(\"2. Bitwise left shift and right shift:\",result2)\n",
    "print(\"3. Compoarison:\",result3)\n",
    "print(\"4. 1j*z:\",result4)\n",
    "print(\"5. Division:\",result5)"
   ]
  },
  {
   "cell_type": "markdown",
   "metadata": {
    "id": "igaTcYHyzHqX"
   },
   "source": [
    "#### 28. What are the result of the following expressions?\n",
    "```python\n",
    "np.array(0) / np.array(0)\n",
    "np.array(0) // np.array(0)\n",
    "np.array([np.nan]).astype(int).astype(float)\n",
    "```"
   ]
  },
  {
   "cell_type": "code",
   "execution_count": 6,
   "metadata": {
    "id": "ghEEiEq0zHqX"
   },
   "outputs": [
    {
     "name": "stdout",
     "output_type": "stream",
     "text": [
      "Result 1 (0/0): nan\n",
      "Result 2 (0//0): 0\n",
      "Result 2 (conversion): [-2.14748365e+09]\n"
     ]
    },
    {
     "name": "stderr",
     "output_type": "stream",
     "text": [
      "C:\\Users\\twaib\\AppData\\Local\\Temp\\ipykernel_9148\\2346888151.py:2: RuntimeWarning: invalid value encountered in divide\n",
      "  result1=np.array(0) / np.array(0)\n",
      "C:\\Users\\twaib\\AppData\\Local\\Temp\\ipykernel_9148\\2346888151.py:6: RuntimeWarning: divide by zero encountered in floor_divide\n",
      "  result2=np.array(0) // np.array(0)\n",
      "C:\\Users\\twaib\\AppData\\Local\\Temp\\ipykernel_9148\\2346888151.py:10: RuntimeWarning: invalid value encountered in cast\n",
      "  result3=np.array([np.nan]).astype(int).astype(float)\n"
     ]
    }
   ],
   "source": [
    "#Expression 1\n",
    "result1=np.array(0) / np.array(0)\n",
    "print(\"Result 1 (0/0):\",result1)\n",
    "\n",
    "#Expression 2\n",
    "result2=np.array(0) // np.array(0)\n",
    "print(\"Result 2 (0//0):\",result2)\n",
    "\n",
    "#Expression 3\n",
    "result3=np.array([np.nan]).astype(int).astype(float)\n",
    "print(\"Result 2 (conversion):\",result3)"
   ]
  },
  {
   "cell_type": "markdown",
   "metadata": {
    "id": "m5p1WAGMzHqY"
   },
   "source": [
    "#### 29. How to round away from zero a float array ? (★☆☆)"
   ]
  },
  {
   "cell_type": "code",
   "execution_count": 8,
   "metadata": {
    "id": "y0b66GHozHqY"
   },
   "outputs": [
    {
     "name": "stdout",
     "output_type": "stream",
     "text": [
      "Original array: [-3.4  2.7 -1.5  4.2 -0.7]\n",
      "Rounded array(away from zero): [-3.  3. -2.  4. -1.]\n"
     ]
    }
   ],
   "source": [
    "float_array=np.array([-3.4,2.7,-1.5,4.2,-0.7])\n",
    "rounded_array=np.round(float_array)\n",
    "print(\"Original array:\",float_array)\n",
    "print(\"Rounded array(away from zero):\",rounded_array)"
   ]
  },
  {
   "cell_type": "markdown",
   "metadata": {
    "id": "MIn7GuIOzHqY"
   },
   "source": [
    "#### 30. How to find common values between two arrays? (★☆☆)"
   ]
  },
  {
   "cell_type": "code",
   "execution_count": 9,
   "metadata": {
    "id": "rzU3HbXhzHqY"
   },
   "outputs": [
    {
     "name": "stdout",
     "output_type": "stream",
     "text": [
      "[3, 4, 5]\n"
     ]
    }
   ],
   "source": [
    "array1=[1,2,3,4,5]\n",
    "array2=[3,4,5,6,7]\n",
    "common_values=list(set(array1) & set(array2))\n",
    "print(common_values)"
   ]
  },
  {
   "cell_type": "markdown",
   "metadata": {
    "id": "89lM9krzzHqZ"
   },
   "source": [
    "#### 31. How to ignore all numpy warnings (not recommended)? (★☆☆)"
   ]
  },
  {
   "cell_type": "code",
   "execution_count": 19,
   "metadata": {
    "id": "ewKVPjUkzHqZ"
   },
   "outputs": [
    {
     "name": "stdout",
     "output_type": "stream",
     "text": [
      "[ 1. inf -1.]\n"
     ]
    }
   ],
   "source": [
    "import warnings\n",
    "with warnings.catch_warnings():\n",
    "    warnings.filterwarnings(\"ignore\",category=FutureWarning)\n",
    "    warnings.filterwarnings(\"ignore\",category=RuntimeWarning)\n",
    "    arr=np.array([1.0,0.0,-1.0])\n",
    "    result=1/arr\n",
    "print(result)"
   ]
  },
  {
   "cell_type": "markdown",
   "metadata": {
    "id": "PBkdorkHzHqZ"
   },
   "source": [
    "#### 32. Is the following expressions true? (★☆☆)\n",
    "```python\n",
    "np.sqrt(-1) == np.emath.sqrt(-1)\n",
    "```"
   ]
  },
  {
   "cell_type": "code",
   "execution_count": 11,
   "metadata": {
    "id": "3443Na_RzHqZ"
   },
   "outputs": [
    {
     "name": "stdout",
     "output_type": "stream",
     "text": [
      "Result of np.sqrt(-1): nan\n",
      "Result of np.emath.sqrt(-1): 1j\n",
      "Are the results equal? False\n"
     ]
    },
    {
     "name": "stderr",
     "output_type": "stream",
     "text": [
      "C:\\Users\\twaib\\AppData\\Local\\Temp\\ipykernel_9148\\744539917.py:1: RuntimeWarning: invalid value encountered in sqrt\n",
      "  result1=np.sqrt(-1)\n"
     ]
    }
   ],
   "source": [
    "result1=np.sqrt(-1)\n",
    "result2=np.emath.sqrt(-1)\n",
    "are_equal=result1==result2\n",
    "print(\"Result of np.sqrt(-1):\",result1)\n",
    "print(\"Result of np.emath.sqrt(-1):\",result2)\n",
    "print(\"Are the results equal?\",are_equal)\n"
   ]
  },
  {
   "cell_type": "markdown",
   "metadata": {
    "id": "t35JH1rezHqZ"
   },
   "source": [
    "#### 33. How to get the dates of yesterday, today and tomorrow? (★☆☆)"
   ]
  },
  {
   "cell_type": "code",
   "execution_count": 13,
   "metadata": {
    "id": "UybbPTHtzHqa"
   },
   "outputs": [
    {
     "name": "stdout",
     "output_type": "stream",
     "text": [
      "yesterday: 2023-09-19\n",
      "today: 2023-09-20\n",
      "tomorrow: 2023-09-21\n"
     ]
    }
   ],
   "source": [
    "import datetime\n",
    "today=datetime.date.today()\n",
    "yesterday=today-datetime.timedelta(days=1)\n",
    "tomorrow=today+datetime.timedelta(days=1)\n",
    "print(\"yesterday:\",yesterday)\n",
    "print(\"today:\",today)\n",
    "print(\"tomorrow:\",tomorrow)"
   ]
  },
  {
   "cell_type": "markdown",
   "metadata": {
    "id": "0u-mUW-VzHqa"
   },
   "source": [
    "#### 34. How to get all the dates corresponding to the month of July 2016? (★★☆)"
   ]
  },
  {
   "cell_type": "code",
   "execution_count": 16,
   "metadata": {
    "id": "K9zL-PTvzHqa"
   },
   "outputs": [
    {
     "name": "stdout",
     "output_type": "stream",
     "text": [
      "2016-07-01\n",
      "2016-07-02\n",
      "2016-07-03\n",
      "2016-07-04\n",
      "2016-07-05\n",
      "2016-07-06\n",
      "2016-07-07\n",
      "2016-07-08\n",
      "2016-07-09\n",
      "2016-07-10\n",
      "2016-07-11\n",
      "2016-07-12\n",
      "2016-07-13\n",
      "2016-07-14\n",
      "2016-07-15\n",
      "2016-07-16\n",
      "2016-07-17\n",
      "2016-07-18\n",
      "2016-07-19\n",
      "2016-07-20\n",
      "2016-07-21\n",
      "2016-07-22\n",
      "2016-07-23\n",
      "2016-07-24\n",
      "2016-07-25\n",
      "2016-07-26\n",
      "2016-07-27\n",
      "2016-07-28\n",
      "2016-07-29\n",
      "2016-07-30\n",
      "2016-07-31\n"
     ]
    }
   ],
   "source": [
    "import datetime\n",
    "year=2016\n",
    "month=7\n",
    "first_day=datetime.date(year,month,1)\n",
    "if month==12:\n",
    "    last_day=datetime.date(year+1,1,1)-datetime.timedelta(days=1)\n",
    "else:\n",
    "    last_day=datetime.date(year,month+1,1)-datetime.timedelta(days=1)\n",
    "dates_in_july_2016=[first_day+datetime.timedelta(days=i)for i in range((last_day-first_day).days+1)]\n",
    "for date in dates_in_july_2016:\n",
    "    print(date)"
   ]
  },
  {
   "cell_type": "markdown",
   "metadata": {
    "id": "iHGXTR-dzHqa"
   },
   "source": [
    "#### 35. How to compute ((A+B)*(-A/2)) in place (without copy)? (★★☆)"
   ]
  },
  {
   "cell_type": "code",
   "execution_count": 21,
   "metadata": {
    "id": "mt59A6LazHqb"
   },
   "outputs": [
    {
     "name": "stdout",
     "output_type": "stream",
     "text": [
      "enter the value for A:20\n",
      "enter the value for B:10\n",
      "The result of the expression ((A+B)*(-A/2)): -300.0\n"
     ]
    }
   ],
   "source": [
    "A=int(input(\"enter the value for A:\"))\n",
    "B=int(input(\"enter the value for B:\"))\n",
    "temp_result=(-A/2)\n",
    "A=(A+B)*temp_result\n",
    "print(\"The result of the expression ((A+B)*(-A/2)):\",A)"
   ]
  },
  {
   "cell_type": "markdown",
   "metadata": {
    "id": "p4mQm79WzHqb"
   },
   "source": [
    "#### 36. Extract the integer part of a random array using 5 different methods (★★☆)"
   ]
  },
  {
   "cell_type": "code",
   "execution_count": 40,
   "metadata": {
    "id": "hWeoW1LGzHqb"
   },
   "outputs": [
    {
     "name": "stdout",
     "output_type": "stream",
     "text": [
      "1.Array using astype(int) method: [5 9 7 5 2]\n",
      "\n",
      "2.Array using list comprehension method: [5, 9, 7, 5, 2]\n",
      "\n",
      "3.Array using the numpy.floor() function: [3 6 2 8 6]\n",
      "\n",
      "4.Array using the numpy.trunc() function: [7 3 7 5 6 5 5]\n",
      "\n",
      "5.Array using the numpy.ceil()function: [ 5 10  3  2  4]\n"
     ]
    }
   ],
   "source": [
    "#Using the astype(int)method\n",
    "import numpy as np\n",
    "random_array=np.random.rand(5)*10\n",
    "integer_array=random_array.astype(int)\n",
    "print(\"1.Array using astype(int) method:\",integer_array)\n",
    "\n",
    "#Using list comprehension\n",
    "array=np.random.rand(7)*10\n",
    "result_array=[int(x)for x in random_array]\n",
    "print(\"\\n2.Array using list comprehension method:\",result_array)\n",
    "\n",
    "#Using the numpy.floor() function\n",
    "my_array=np.random.rand(5)*10\n",
    "result2_array=np.floor(my_array).astype(int)\n",
    "print(\"\\n3.Array using the numpy.floor() function:\",result2_array)\n",
    "\n",
    "#Using the numpy.trunc()fundtion\n",
    "array1=np.random.rand(7)*10\n",
    "result3=np.trunc(array1).astype(int)\n",
    "print(\"\\n4.Array using the numpy.trunc() function:\",result3)\n",
    "\n",
    "#Using the numpy.ceil()function\n",
    "array2=np.random.rand(5)*10\n",
    "result4=np.ceil(array2).astype(int)\n",
    "print(\"\\n5.Array using the numpy.ceil()function:\",result4)"
   ]
  },
  {
   "cell_type": "markdown",
   "metadata": {
    "id": "QbKlKwE7zHqb"
   },
   "source": [
    "#### 37. Create a 5x5 matrix with row values ranging from 0 to 4 (★★☆)"
   ]
  },
  {
   "cell_type": "code",
   "execution_count": 41,
   "metadata": {
    "id": "2QQrYOK2zHqb"
   },
   "outputs": [
    {
     "name": "stdout",
     "output_type": "stream",
     "text": [
      "[0, 1, 2, 3, 4]\n",
      "[0, 1, 2, 3, 4]\n",
      "[0, 1, 2, 3, 4]\n",
      "[0, 1, 2, 3, 4]\n",
      "[0, 1, 2, 3, 4]\n"
     ]
    }
   ],
   "source": [
    "matrix=[]\n",
    "for i in range(5):\n",
    "    row =[j for j in range (5)]\n",
    "    matrix.append(row)\n",
    "for row in matrix:\n",
    "    print(row)"
   ]
  },
  {
   "cell_type": "markdown",
   "metadata": {
    "id": "ig8EUT5ozHqc"
   },
   "source": [
    "#### 38. Consider a generator function that generates 10 integers and use it to build an array (★☆☆)"
   ]
  },
  {
   "cell_type": "code",
   "execution_count": 42,
   "metadata": {
    "id": "p9uMLrLJzHqc"
   },
   "outputs": [
    {
     "name": "stdout",
     "output_type": "stream",
     "text": [
      "[0, 1, 2, 3, 4, 5, 6, 7, 8, 9]\n"
     ]
    }
   ],
   "source": [
    "def integer_generator():\n",
    "    for i in range(10):\n",
    "        yield i\n",
    "my_array=[x for x in integer_generator()]\n",
    "print(my_array)"
   ]
  },
  {
   "cell_type": "markdown",
   "metadata": {
    "id": "KoHLhbKjzHqc"
   },
   "source": [
    "#### 39. Create a vector of size 10 with values ranging from 0 to 1, both excluded (★★☆)"
   ]
  },
  {
   "cell_type": "code",
   "execution_count": 44,
   "metadata": {
    "id": "KuP6qCBAzHqc"
   },
   "outputs": [
    {
     "name": "stdout",
     "output_type": "stream",
     "text": [
      "[0.001      0.11188889 0.22277778 0.33366667 0.44455556 0.55544444\n",
      " 0.66633333 0.77722222 0.88811111 0.999     ]\n"
     ]
    }
   ],
   "source": [
    "my_vector=np.linspace(0.001,0.999,10)\n",
    "print(my_vector)"
   ]
  },
  {
   "cell_type": "markdown",
   "metadata": {
    "id": "C0-H2wCkzHqd"
   },
   "source": [
    "#### 40. Create a random vector of size 10 and sort it (★★☆)"
   ]
  },
  {
   "cell_type": "code",
   "execution_count": 45,
   "metadata": {
    "id": "2UamzqVkzHqd"
   },
   "outputs": [
    {
     "name": "stdout",
     "output_type": "stream",
     "text": [
      "[0.08927608 0.14794372 0.1958004  0.44360035 0.5585565  0.56367581\n",
      " 0.59818249 0.77735212 0.82979292 0.99152482]\n"
     ]
    }
   ],
   "source": [
    "my_vector=np.random.rand(10)\n",
    "sorted_vector=np.sort(my_vector)\n",
    "print(sorted_vector)"
   ]
  },
  {
   "cell_type": "markdown",
   "metadata": {
    "id": "8byaffTyzHqd"
   },
   "source": [
    "#### 41. How to sum a small array faster than np.sum? (★★☆)"
   ]
  },
  {
   "cell_type": "code",
   "execution_count": 50,
   "metadata": {
    "id": "IShlO_dmzHqd"
   },
   "outputs": [
    {
     "name": "stdout",
     "output_type": "stream",
     "text": [
      "The sum of the array is: 15\n"
     ]
    }
   ],
   "source": [
    "my_array=[1,2,3,4,5]\n",
    "result=0\n",
    "for num in my_array:\n",
    "    result+=num\n",
    "print(\"The sum of the array is:\",result)   "
   ]
  },
  {
   "cell_type": "markdown",
   "metadata": {
    "id": "u9Q6VwVPzHqe"
   },
   "source": [
    "#### 42. Consider two random array A and B, check if they are equal (★★☆)"
   ]
  },
  {
   "cell_type": "code",
   "execution_count": 52,
   "metadata": {
    "id": "x9qg9uSjzHqe"
   },
   "outputs": [
    {
     "name": "stdout",
     "output_type": "stream",
     "text": [
      "Arrays are not equal\n"
     ]
    }
   ],
   "source": [
    "def are_arrays_equal(A,B):\n",
    "    if len(A)!=len(B):\n",
    "        return False\n",
    "    for i in range(len(A)):\n",
    "        if A[i]!=B[i]:\n",
    "            return False\n",
    "    return True\n",
    "array1=[1,2,3,4]\n",
    "array2=[5,6,7,8]\n",
    "if are_arrays_equal(array1,array2):\n",
    "    print(\"Arrays are equal\")\n",
    "else:\n",
    "    print(\"Arrays are not equal\")"
   ]
  },
  {
   "cell_type": "markdown",
   "metadata": {
    "id": "mP40w3n2zHqe"
   },
   "source": [
    "#### 43. Make an array immutable (read-only) (★★☆)"
   ]
  },
  {
   "cell_type": "code",
   "execution_count": 3,
   "metadata": {
    "id": "tXZbUHgIzHqe"
   },
   "outputs": [],
   "source": [
    "my_tuple=(1,2,3,4,5)"
   ]
  },
  {
   "cell_type": "markdown",
   "metadata": {
    "id": "HaR0WCb3zHqe"
   },
   "source": [
    "#### 44. Consider a random 10x2 matrix representing cartesian coordinates, convert them to polar coordinates (★★☆)"
   ]
  },
  {
   "cell_type": "code",
   "execution_count": 53,
   "metadata": {
    "id": "sO_OEEwozHqf"
   },
   "outputs": [
    {
     "name": "stdout",
     "output_type": "stream",
     "text": [
      "Cartesian coordinates:\n",
      "[[0.20740885 0.27583348]\n",
      " [0.52316743 0.98117679]\n",
      " [0.94993535 0.69058667]\n",
      " [0.76485986 0.49263677]\n",
      " [0.91296536 0.25463833]\n",
      " [0.01358612 0.45243653]\n",
      " [0.35970169 0.48257959]\n",
      " [0.06442097 0.21340031]\n",
      " [0.05302296 0.94395058]\n",
      " [0.63243417 0.92531786]]\n",
      "\n",
      "Polar coordinates:\n",
      "[[0.34511235 0.64473836]\n",
      " [1.11194067 0.48985666]\n",
      " [1.17443055 0.94218969]\n",
      " [0.90978107 0.99858867]\n",
      " [0.94781139 1.29879546]\n",
      " [0.45264047 0.03001977]\n",
      " [0.60188733 0.6405331 ]\n",
      " [0.22291199 0.29317931]\n",
      " [0.94543859 0.05611236]\n",
      " [1.1207971  0.59955093]]\n"
     ]
    }
   ],
   "source": [
    "import numpy as np\n",
    "cc=np.random.rand(10,2)\n",
    "pc=np.empty_like(cc)\n",
    "for i in range(10):\n",
    "    x,y=cc[i]\n",
    "    r=np.sqrt(x**2+y**2)\n",
    "    theta=np.arctan2(x,y)\n",
    "    pc[i]=[r,theta]\n",
    "print(\"Cartesian coordinates:\")\n",
    "print(cc)\n",
    "\n",
    "print(\"\\nPolar coordinates:\")\n",
    "print(pc)"
   ]
  },
  {
   "cell_type": "markdown",
   "metadata": {
    "id": "_38lOEvyzHqf"
   },
   "source": [
    "#### 45. Create random vector of size 10 and replace the maximum value by 0 (★★☆)"
   ]
  },
  {
   "cell_type": "code",
   "execution_count": 54,
   "metadata": {
    "id": "Nb3crBjFzHqf"
   },
   "outputs": [
    {
     "name": "stdout",
     "output_type": "stream",
     "text": [
      "Random vector with maximum value replaced:\n",
      "[0.58463596 0.64945532 0.22301813 0.19475541 0.         0.32604685\n",
      " 0.5233905  0.11356303 0.50831039 0.50155044]\n"
     ]
    }
   ],
   "source": [
    "random_vector=np.random.rand(10)\n",
    "max_index=np.argmax(random_vector)\n",
    "random_vector[max_index]=0\n",
    "print(\"Random vector with maximum value replaced:\")\n",
    "print(random_vector)"
   ]
  },
  {
   "cell_type": "markdown",
   "metadata": {
    "id": "ZVX356mPzHqg"
   },
   "source": [
    "#### 46. Create a structured array with `x` and `y` coordinates covering the [0,1]x[0,1] area (★★☆)"
   ]
  },
  {
   "cell_type": "code",
   "execution_count": 56,
   "metadata": {
    "id": "pg2t4FkfzHqg"
   },
   "outputs": [
    {
     "name": "stdout",
     "output_type": "stream",
     "text": [
      "[(0.05766582, 0.29891595) (0.93259666, 0.86013027)\n",
      " (0.67199644, 0.63964626) (0.85372999, 0.76014125)\n",
      " (0.21102735, 0.61564564) (0.96228528, 0.40391874)\n",
      " (0.15231965, 0.10721423) (0.48814035, 0.75447056)\n",
      " (0.79220182, 0.71912577) (0.66010159, 0.96080289)]\n"
     ]
    }
   ],
   "source": [
    "num_points=10\n",
    "coordinates=np.zeros(num_points,dtype=[('x',float),('y',float)])\n",
    "coordinates['x']=np.random.uniform(0,1,num_points)\n",
    "coordinates['y']=np.random.uniform(0,1,num_points)\n",
    "print(coordinates)"
   ]
  },
  {
   "cell_type": "markdown",
   "metadata": {
    "id": "UDBF6bsHzHqg"
   },
   "source": [
    "#### 47. Given two arrays, X and Y, construct the Cauchy matrix C (Cij =1/(xi - yj))"
   ]
  },
  {
   "cell_type": "code",
   "execution_count": 57,
   "metadata": {
    "id": "XABS519pzHqg"
   },
   "outputs": [
    {
     "name": "stdout",
     "output_type": "stream",
     "text": [
      "Cauchy Matrix:\n",
      "[[-0.33333333 -0.25       -0.2       ]\n",
      " [-0.5        -0.33333333 -0.25      ]\n",
      " [-1.         -0.5        -0.33333333]]\n"
     ]
    }
   ],
   "source": [
    "x=np.array([1,2,3])\n",
    "y=np.array([4,5,6])\n",
    "c=1/(x[:,np.newaxis]-y)\n",
    "print(\"Cauchy Matrix:\")\n",
    "print(c)"
   ]
  },
  {
   "cell_type": "markdown",
   "metadata": {
    "id": "I_1WkQ5jzHqg"
   },
   "source": [
    "#### 48. Print the minimum and maximum representable value for each numpy scalar type (★★☆)"
   ]
  },
  {
   "cell_type": "code",
   "execution_count": 60,
   "metadata": {
    "id": "kCeBtalwzHqh"
   },
   "outputs": [
    {
     "name": "stdout",
     "output_type": "stream",
     "text": [
      "Integer type:\n",
      "int8:Min=-128,Max=127\n",
      "int16:Min=-32768,Max=32767\n",
      "int32:Min=-2147483648,Max=2147483647\n",
      "int64:Min=-9223372036854775808,Max=9223372036854775807\n",
      "\n",
      "Unsigned integer type:\n",
      "uint8:Min=0,Max=255\n",
      "uint16:Min=0,Max=65535\n",
      "uint32:Min=0,Max=4294967295\n",
      "uint64:Min=0,Max=18446744073709551615\n",
      "\n",
      "Floating-point types:\n",
      "float16:Min=-65504.0,Max=65504.0\n",
      "float32:Min=-3.4028234663852886e+38,Max=3.4028234663852886e+38\n",
      "float64:Min=-1.7976931348623157e+308,Max=1.7976931348623157e+308\n"
     ]
    }
   ],
   "source": [
    "# Integer type\n",
    "print(\"Integer type:\")\n",
    "for dtype in [np.int8,np.int16,np.int32,np.int64]:\n",
    "    info=np.iinfo(dtype)\n",
    "    print(f\"{dtype.__name__}:Min={info.min},Max={info.max}\")\n",
    "\n",
    "# Unsigned Integer type\n",
    "print(\"\\nUnsigned integer type:\")\n",
    "for dtype in [np.uint8,np.uint16,np.uint32,np.uint64]:\n",
    "    info=np.iinfo(dtype)\n",
    "    print(f\"{dtype.__name__}:Min={info.min},Max={info.max}\")\n",
    "\n",
    "# Floating-point type    \n",
    "print(\"\\nFloating-point types:\")\n",
    "for dtype in [np.float16,np.float32,np.float64]:\n",
    "    info=np.finfo(dtype)\n",
    "    print(f\"{dtype.__name__}:Min={info.min},Max={info.max}\")    "
   ]
  },
  {
   "cell_type": "markdown",
   "metadata": {
    "id": "eVTGR_mLzHqh"
   },
   "source": [
    "#### 49. How to print all the values of an array? (★★☆)"
   ]
  },
  {
   "cell_type": "code",
   "execution_count": 61,
   "metadata": {
    "id": "8gQp_JifzHqh"
   },
   "outputs": [
    {
     "name": "stdout",
     "output_type": "stream",
     "text": [
      "1\n",
      "2\n",
      "3\n",
      "4\n",
      "5\n",
      "6\n",
      "7\n",
      "8\n"
     ]
    }
   ],
   "source": [
    "my_array=[1,2,3,4,5,6,7,8]\n",
    "for value in my_array:\n",
    "    print(value)"
   ]
  },
  {
   "cell_type": "markdown",
   "metadata": {
    "id": "oO1VIFSezHqh"
   },
   "source": [
    "#### 50. How to find the closest value (to a given scalar) in a vector? (★★☆)"
   ]
  },
  {
   "cell_type": "code",
   "execution_count": 63,
   "metadata": {
    "id": "Ge9daOVazHqi"
   },
   "outputs": [
    {
     "name": "stdout",
     "output_type": "stream",
     "text": [
      "Given Scalar: 4.0\n",
      "Closest value: 4.1\n",
      "Index of closest value: 3\n"
     ]
    }
   ],
   "source": [
    "vector=np.array([1.2,2.5,3.8,4.1,5.9])\n",
    "scalar=4.0\n",
    "closest_vector=None\n",
    "closest_index=None\n",
    "min_difference=float('inf')\n",
    "for i, value in enumerate(vector):\n",
    "    difference=abs(scalar-value)\n",
    "    if difference<min_difference:\n",
    "        closest_value=value\n",
    "        closest_index=i\n",
    "        min_difference=difference\n",
    "print(\"Given Scalar:\",scalar)\n",
    "print(\"Closest value:\",closest_value)\n",
    "print(\"Index of closest value:\",closest_index)"
   ]
  },
  {
   "cell_type": "markdown",
   "metadata": {
    "id": "lvTqJnlJzHqi"
   },
   "source": [
    "#### 51. Create a structured array representing a position (x,y) and a color (r,g,b) (★★☆)"
   ]
  },
  {
   "cell_type": "code",
   "execution_count": 4,
   "metadata": {
    "id": "hMiE8uKMzHqi"
   },
   "outputs": [
    {
     "name": "stdout",
     "output_type": "stream",
     "text": [
      "x:30,y:25,R:128,G:128,B:128\n"
     ]
    }
   ],
   "source": [
    "import numpy as np\n",
    "dtype=[('x',int),('y',int),('colour',[('R',int),('G',int),('B',int)])]\n",
    "structured_array=np.empty(5,dtype=dtype)\n",
    "structured_array['x']=[10,20,30,40,50]\n",
    "structured_array['y']=[5,15,25,35,45]\n",
    "structured_array['colour']['R']=[255,0,128,0,255]\n",
    "structured_array['colour']['G']=[0,255,128,0,255]\n",
    "structured_array['colour']['B']=[0,0,128,255,0]\n",
    "element=structured_array[2]\n",
    "print(f\"x:{element['x']},y:{element['y']},R:{element['colour']['R']},G:{element['colour']['G']},B:{element['colour']['B']}\")"
   ]
  },
  {
   "cell_type": "markdown",
   "metadata": {
    "id": "6kKxNCFXzHqi"
   },
   "source": [
    "#### 52. Consider a random vector with shape (100,2) representing coordinates, find point by point distances (★★☆)"
   ]
  },
  {
   "cell_type": "code",
   "execution_count": 9,
   "metadata": {
    "id": "wp0iCZhzzHqi"
   },
   "outputs": [
    {
     "name": "stdout",
     "output_type": "stream",
     "text": [
      "Distance between coorinates[0] and cooridinates[1]:0.7094429410318679\n"
     ]
    }
   ],
   "source": [
    "coordinates=np.random.rand(100,2)\n",
    "distance=np.linalg.norm(coordinates[:,np.newaxis,:]-coordinates,axis=2)\n",
    "distance_between_points_0_and_1=distance[0,1]\n",
    "print(f\"Distance between coorinates[0] and cooridinates[1]:{distance_between_points_0_and_1}\")"
   ]
  },
  {
   "cell_type": "markdown",
   "metadata": {
    "id": "PlHgjBMpzHqj"
   },
   "source": [
    "#### 53. How to convert a float (32 bits) array into an integer (32 bits) in place?"
   ]
  },
  {
   "cell_type": "code",
   "execution_count": 13,
   "metadata": {
    "id": "kznohTvqzHqj"
   },
   "outputs": [
    {
     "name": "stdout",
     "output_type": "stream",
     "text": [
      "original float32 array:\n",
      "[1.5 2.7 3.9 4.1]\n",
      "\n",
      "Converted int32 array:\n",
      "[1069547520 1076677837 1081711002 1082340147]\n"
     ]
    }
   ],
   "source": [
    "float32_array=np.array([1.5,2.7,3.9,4.1],dtype=np.float32)\n",
    "int32_array=float32_array.view(dtype=np.int32)\n",
    "print(\"original float32 array:\")\n",
    "print(float32_array)\n",
    "print(\"\\nConverted int32 array:\")\n",
    "print(int32_array)"
   ]
  },
  {
   "cell_type": "markdown",
   "metadata": {
    "id": "4TP2r8KNzHqj"
   },
   "source": [
    "#### 54. How to read the following file? (★★☆)\n",
    "```\n",
    "1, 2, 3, 4, 5\n",
    "6,  ,  , 7, 8\n",
    " ,  , 9,10,11\n",
    "```"
   ]
  },
  {
   "cell_type": "code",
   "execution_count": 25,
   "metadata": {
    "id": "ReBYgN9RzHqk"
   },
   "outputs": [
    {
     "ename": "SyntaxError",
     "evalue": "invalid syntax (2185937205.py, line 2)",
     "output_type": "error",
     "traceback": [
      "\u001b[1;36m  Cell \u001b[1;32mIn[25], line 2\u001b[1;36m\u001b[0m\n\u001b[1;33m    data=[1, 2, 3, 4, 5,6,  ,  , 7, 8, ,  , 9,10,11]\u001b[0m\n\u001b[1;37m                            ^\u001b[0m\n\u001b[1;31mSyntaxError\u001b[0m\u001b[1;31m:\u001b[0m invalid syntax\n"
     ]
    }
   ],
   "source": [
    "import csv\n",
    "data=[1, 2, 3, 4, 5,6,  ,  , 7, 8, ,  , 9,10,11]\n",
    "with open('read_file.csv','r')as file:\n",
    "    csv_reader=csv.resder(file)\n",
    "    for row in csv.reader:\n",
    "        cleaned_row=[int(cell.strip())if cell.strip()else None for cell in row]\n",
    "        data.append(cleaned_row)\n",
    "for row in data:\n",
    "    print(row)"
   ]
  },
  {
   "cell_type": "markdown",
   "metadata": {
    "id": "0t_xy61gzHqk"
   },
   "source": [
    "#### 55. What is the equivalent of enumerate for numpy arrays? (★★☆)"
   ]
  },
  {
   "cell_type": "code",
   "execution_count": 29,
   "metadata": {
    "id": "xOQKv1zFzHqk"
   },
   "outputs": [
    {
     "name": "stdout",
     "output_type": "stream",
     "text": [
      "Index(0, 0):Value1\n",
      "Index(0, 1):Value2\n",
      "Index(0, 2):Value3\n",
      "Index(1, 0):Value4\n",
      "Index(1, 1):Value5\n",
      "Index(1, 2):Value6\n",
      "Index(2, 0):Value7\n",
      "Index(2, 1):Value8\n",
      "Index(2, 2):Value9\n"
     ]
    }
   ],
   "source": [
    "import numpy as np\n",
    "arr=np.array([[1,2,3],[4,5,6],[7,8,9]])\n",
    "for index,value in np.ndenumerate(arr):\n",
    "    print(f\"Index{index}:Value{value}\")"
   ]
  },
  {
   "cell_type": "markdown",
   "metadata": {
    "id": "BZQ89XMtzHqk"
   },
   "source": [
    "#### 56. Generate a generic 2D Gaussian-like array (★★☆)"
   ]
  },
  {
   "cell_type": "code",
   "execution_count": 31,
   "metadata": {
    "id": "0L8eRY6DzHql"
   },
   "outputs": [
    {
     "name": "stdout",
     "output_type": "stream",
     "text": [
      "[[ 1.55293318  1.39245402 -0.72816006]\n",
      " [-0.49275641  0.75893508  0.91258194]\n",
      " [-0.82931538  1.9072038   2.30116127]]\n"
     ]
    }
   ],
   "source": [
    "shape=(3,3)\n",
    "mean=0.0\n",
    "std_dev=1.0\n",
    "gaussian_array=np.random.normal(mean,std_dev,size=shape)\n",
    "print(gaussian_array)"
   ]
  },
  {
   "cell_type": "markdown",
   "metadata": {
    "id": "pesKWOZuzHql"
   },
   "source": [
    "#### 57. How to randomly place p elements in a 2D array? (★★☆)"
   ]
  },
  {
   "cell_type": "code",
   "execution_count": 35,
   "metadata": {
    "id": "CTPzRFJQzHql"
   },
   "outputs": [
    {
     "name": "stdout",
     "output_type": "stream",
     "text": [
      "   P P\n",
      " P   P\n",
      "  P  \n",
      "P    \n",
      "P   P \n"
     ]
    }
   ],
   "source": [
    "rows, cols = 5, 5  \n",
    "array = np.zeros((rows, cols), dtype=str)\n",
    "num_P_elements = 8 \n",
    "random_positions = np.random.choice(rows * cols, num_P_elements, replace=False)\n",
    "for position in random_positions:\n",
    "    row_index, col_index = divmod(position, cols)\n",
    "    array[row_index, col_index] = 'P'\n",
    "for row in array:\n",
    "    print(\" \".join(row))\n"
   ]
  },
  {
   "cell_type": "markdown",
   "metadata": {
    "id": "hkCznSBIzHql"
   },
   "source": [
    "#### 58. Subtract the mean of each row of a matrix (★★☆)"
   ]
  },
  {
   "cell_type": "code",
   "execution_count": 33,
   "metadata": {
    "id": "2PP3yU8czHqm"
   },
   "outputs": [
    {
     "name": "stdout",
     "output_type": "stream",
     "text": [
      "Matrix with row means subtracted:\n",
      "[[-1.  0.  1.]\n",
      " [-1.  0.  1.]\n",
      " [-1.  0.  1.]]\n"
     ]
    }
   ],
   "source": [
    "matrix = np.array([[1, 2, 3],\n",
    "                   [4, 5, 6],\n",
    "                   [7, 8, 9]])\n",
    "row_means = np.mean(matrix, axis=1)\n",
    "matrix_minus_means = matrix - row_means.reshape(-1, 1)\n",
    "print(\"Matrix with row means subtracted:\")\n",
    "print(matrix_minus_means)"
   ]
  },
  {
   "cell_type": "markdown",
   "metadata": {
    "id": "KQlyWIrFzHqm"
   },
   "source": [
    "#### 59. How to sort an array by the nth column? (★★☆)"
   ]
  },
  {
   "cell_type": "code",
   "execution_count": 34,
   "metadata": {
    "id": "mX-4bTUjzHqm"
   },
   "outputs": [
    {
     "name": "stdout",
     "output_type": "stream",
     "text": [
      "Sorted Array:\n",
      "[[3 6 1]\n",
      " [5 7 2]\n",
      " [2 8 0]]\n"
     ]
    }
   ],
   "source": [
    "array = np.array([[3, 6, 1],\n",
    "                  [2, 8, 0],\n",
    "                  [5, 7, 2]])\n",
    "n = 1\n",
    "sorted_indices = np.argsort(array[:, n])\n",
    "sorted_array = array[sorted_indices]\n",
    "print(\"Sorted Array:\")\n",
    "print(sorted_array)"
   ]
  },
  {
   "cell_type": "markdown",
   "metadata": {
    "id": "d9WKcwvLzHqm"
   },
   "source": [
    "#### 60. How to tell if a given 2D array has null columns? (★★☆)"
   ]
  },
  {
   "cell_type": "code",
   "execution_count": 36,
   "metadata": {
    "id": "ThSINz8RzHqm"
   },
   "outputs": [
    {
     "name": "stdout",
     "output_type": "stream",
     "text": [
      "Null Columns:\n",
      "[False False False]\n"
     ]
    }
   ],
   "source": [
    "array = np.array([[0, 1, 0],\n",
    "                  [0, 0, 0],\n",
    "                  [0, 0, 0],\n",
    "                  [1, 2, 3]])\n",
    "null_columns = np.all(array == 0, axis=0)\n",
    "print(\"Null Columns:\")\n",
    "print(null_columns)"
   ]
  },
  {
   "cell_type": "markdown",
   "metadata": {
    "id": "71OJZRI3zHqm"
   },
   "source": [
    "#### 61. Find the nearest value from a given value in an array (★★☆)"
   ]
  },
  {
   "cell_type": "code",
   "execution_count": 37,
   "metadata": {
    "id": "H799pNa1zHqn"
   },
   "outputs": [
    {
     "name": "stdout",
     "output_type": "stream",
     "text": [
      "Given value: 6\n",
      "Nearest value in the array: 5\n"
     ]
    }
   ],
   "source": [
    "array = np.array([1, 3, 5, 7, 9, 11, 13])\n",
    "given_value = 6 \n",
    "absolute_differences = np.abs(array - given_value)\n",
    "nearest_index = np.argmin(absolute_differences)\n",
    "nearest_value = array[nearest_index]\n",
    "print(f\"Given value: {given_value}\")\n",
    "print(f\"Nearest value in the array: {nearest_value}\")"
   ]
  },
  {
   "cell_type": "markdown",
   "metadata": {
    "id": "_jS7H_uVzHqn"
   },
   "source": [
    "#### 62. Considering two arrays with shape (1,3) and (3,1), how to compute their sum using an iterator? (★★☆)"
   ]
  },
  {
   "cell_type": "code",
   "execution_count": 38,
   "metadata": {
    "id": "CnMGT_iZzHqn"
   },
   "outputs": [
    {
     "name": "stdout",
     "output_type": "stream",
     "text": [
      "Sum of arrays:\n",
      "90\n"
     ]
    }
   ],
   "source": [
    "array1 = np.array([[1, 2, 3]])\n",
    "array2 = np.array([[4],\n",
    "                   [5],\n",
    "                   [6]])\n",
    "result = 0\n",
    "for i in range(array1.shape[1]):\n",
    "    for j in range(array2.shape[0]):\n",
    "        result += array1[0, i] * array2[j, 0]\n",
    "print(\"Sum of arrays:\")\n",
    "print(result)"
   ]
  },
  {
   "cell_type": "markdown",
   "metadata": {
    "id": "7noQHf6GzHqn"
   },
   "source": [
    "#### 63. Create an array class that has a name attribute (★★☆)"
   ]
  },
  {
   "cell_type": "code",
   "execution_count": 2,
   "metadata": {
    "id": "e8oyoZi9zHqo"
   },
   "outputs": [
    {
     "ename": "NameError",
     "evalue": "name 'arr' is not defined",
     "output_type": "error",
     "traceback": [
      "\u001b[1;31m---------------------------------------------------------------------------\u001b[0m",
      "\u001b[1;31mNameError\u001b[0m                                 Traceback (most recent call last)",
      "Cell \u001b[1;32mIn[2], line 5\u001b[0m\n\u001b[0;32m      3\u001b[0m         \u001b[38;5;28mself\u001b[39m\u001b[38;5;241m.\u001b[39mdata \u001b[38;5;241m=\u001b[39m data\n\u001b[0;32m      4\u001b[0m         \u001b[38;5;28mself\u001b[39m\u001b[38;5;241m.\u001b[39mname \u001b[38;5;241m=\u001b[39m name\n\u001b[1;32m----> 5\u001b[0m my_array \u001b[38;5;241m=\u001b[39marr([\u001b[38;5;241m1\u001b[39m, \u001b[38;5;241m2\u001b[39m, \u001b[38;5;241m3\u001b[39m, \u001b[38;5;241m4\u001b[39m, \u001b[38;5;241m5\u001b[39m], \u001b[38;5;124m\"\u001b[39m\u001b[38;5;124mMy Array\u001b[39m\u001b[38;5;124m\"\u001b[39m)\n\u001b[0;32m      6\u001b[0m \u001b[38;5;28mprint\u001b[39m(\u001b[38;5;124mf\u001b[39m\u001b[38;5;124m\"\u001b[39m\u001b[38;5;124mName: \u001b[39m\u001b[38;5;132;01m{\u001b[39;00mmy_array\u001b[38;5;241m.\u001b[39mname\u001b[38;5;132;01m}\u001b[39;00m\u001b[38;5;124m\"\u001b[39m)\n\u001b[0;32m      7\u001b[0m \u001b[38;5;28mprint\u001b[39m(\u001b[38;5;124mf\u001b[39m\u001b[38;5;124m\"\u001b[39m\u001b[38;5;124mData: \u001b[39m\u001b[38;5;132;01m{\u001b[39;00mmy_array\u001b[38;5;241m.\u001b[39mdata\u001b[38;5;132;01m}\u001b[39;00m\u001b[38;5;124m\"\u001b[39m)\n",
      "\u001b[1;31mNameError\u001b[0m: name 'arr' is not defined"
     ]
    }
   ],
   "source": [
    "class Arrays:\n",
    "    def _init_(self, data, name):\n",
    "        self.data = data\n",
    "        self.name = name\n",
    "my_array =arr([1, 2, 3, 4, 5], \"My Array\")\n",
    "print(f\"Name: {my_array.name}\")\n",
    "print(f\"Data: {my_array.data}\")"
   ]
  },
  {
   "cell_type": "markdown",
   "metadata": {
    "id": "-NjhCMX7zHqo"
   },
   "source": [
    "#### 64. Consider a given vector, how to add 1 to each element indexed by a second vector (be careful with repeated indices)? (★★★)"
   ]
  },
  {
   "cell_type": "code",
   "execution_count": 48,
   "metadata": {
    "id": "ROUeDnQMzHqo"
   },
   "outputs": [
    {
     "name": "stdout",
     "output_type": "stream",
     "text": [
      "Result Vector:\n",
      "[2 2 4 4 6]\n"
     ]
    }
   ],
   "source": [
    "original_vector = np.array([1, 2, 3, 4, 5])\n",
    "index_vector = np.array([0, 2, 2, 4])\n",
    "result_vector = original_vector.copy()\n",
    "result_vector[index_vector] += 1\n",
    "print(\"Result Vector:\")\n",
    "print(result_vector)"
   ]
  },
  {
   "cell_type": "markdown",
   "metadata": {
    "id": "UpSF5_-DzHqo"
   },
   "source": [
    "#### 65. How to accumulate elements of a vector (X) to an array (F) based on an index list (I)? (★★★)"
   ]
  },
  {
   "cell_type": "code",
   "execution_count": 49,
   "metadata": {
    "id": "4sNqdgkJzHqo"
   },
   "outputs": [
    {
     "name": "stdout",
     "output_type": "stream",
     "text": [
      "Accumulated Array F:\n",
      "[3 1 5 2 4]\n"
     ]
    }
   ],
   "source": [
    "X = np.array([1, 2, 3, 4, 5])\n",
    "I = np.array([1, 3, 0, 4, 2])\n",
    "F = np.zeros_like(X)\n",
    "np.add.at(F, I, X)\n",
    "\n",
    "# Print the result array F\n",
    "print(\"Accumulated Array F:\")\n",
    "print(F)"
   ]
  },
  {
   "cell_type": "markdown",
   "metadata": {
    "id": "2CeNLckkzHqo"
   },
   "source": [
    "#### 66. Considering a (w,h,3) image of (dtype=ubyte), compute the number of unique colors (★★★)"
   ]
  },
  {
   "cell_type": "code",
   "execution_count": 50,
   "metadata": {
    "id": "KENK11hUzHqp"
   },
   "outputs": [
    {
     "name": "stdout",
     "output_type": "stream",
     "text": [
      "Number of unique colors: 3\n"
     ]
    }
   ],
   "source": [
    "image = np.array([[[255, 0, 0], [0, 255, 0], [0, 0, 255]],\n",
    "                  [[255, 0, 0], [0, 255, 0], [0, 0, 255]],\n",
    "                  [[255, 0, 0], [0, 255, 0], [0, 0, 255]]], dtype=np.ubyte)\n",
    "reshaped_image = image.reshape((-1, 3))\n",
    "unique_colors = list(map(tuple, reshaped_image))\n",
    "num_unique_colors = len(set(unique_colors))\n",
    "print(\"Number of unique colors:\", num_unique_colors)"
   ]
  },
  {
   "cell_type": "markdown",
   "metadata": {
    "id": "H0-AmPk3zHqp"
   },
   "source": [
    "#### 67. Considering a four dimensions array, how to get sum over the last two axis at once? (★★★)"
   ]
  },
  {
   "cell_type": "code",
   "execution_count": 51,
   "metadata": {
    "id": "7kpXsZ_FzHqp"
   },
   "outputs": [
    {
     "name": "stdout",
     "output_type": "stream",
     "text": [
      "Sum over the last two axes:\n",
      "[[ 73 103  99]\n",
      " [ 89  98  78]]\n"
     ]
    }
   ],
   "source": [
    "array_4d = np.random.randint(0, 10, size=(2, 3, 4, 5))\n",
    "sum_last_two_axes = np.sum(array_4d, axis=(2, 3))\n",
    "print(\"Sum over the last two axes:\")\n",
    "print(sum_last_two_axes)"
   ]
  },
  {
   "cell_type": "markdown",
   "metadata": {
    "id": "nD6kfS07zHqp"
   },
   "source": [
    "#### 68. Considering a one-dimensional vector D, how to compute means of subsets of D using a vector S of same size describing subset  indices? (★★★)"
   ]
  },
  {
   "cell_type": "code",
   "execution_count": 52,
   "metadata": {
    "id": "xcEJDFkdzHqp"
   },
   "outputs": [
    {
     "name": "stdout",
     "output_type": "stream",
     "text": [
      "Subset Means:\n",
      "[3.6666666666666665, 4.666666666666667, 6.666666666666667]\n"
     ]
    }
   ],
   "source": [
    "D = np.array([1, 2, 3, 4, 5, 6, 7, 8, 9])\n",
    "S = np.array([0, 1, 0, 1, 2, 2, 0, 1, 2])\n",
    "unique_values_in_S = np.unique(S)\n",
    "subset_means = []\n",
    "for unique_value in unique_values_in_S:\n",
    "    subset_indices = np.where(S == unique_value)[0] \n",
    "    subset = D[subset_indices] \n",
    "    subset_mean = np.mean(subset) \n",
    "    subset_means.append(subset_mean)\n",
    "print(\"Subset Means:\")\n",
    "print(subset_means)"
   ]
  },
  {
   "cell_type": "markdown",
   "metadata": {
    "id": "7oqftD2izHqp"
   },
   "source": [
    "#### 69. How to get the diagonal of a dot product? (★★★)"
   ]
  },
  {
   "cell_type": "code",
   "execution_count": 53,
   "metadata": {
    "id": "dWb2628czHqq"
   },
   "outputs": [
    {
     "name": "stdout",
     "output_type": "stream",
     "text": [
      "Diagonal of the Dot Product:\n",
      "[19 50]\n"
     ]
    }
   ],
   "source": [
    "A = np.array([[1, 2],\n",
    "              [3, 4]])\n",
    "\n",
    "B = np.array([[5, 6],\n",
    "              [7, 8]])\n",
    "\n",
    "dot_product = np.dot(A, B)\n",
    "diagonal = np.diag(dot_product)\n",
    "print(\"Diagonal of the Dot Product:\")\n",
    "print(diagonal)"
   ]
  },
  {
   "cell_type": "markdown",
   "metadata": {
    "id": "V-yNl0D5zHqq"
   },
   "source": [
    "#### 70. Consider the vector [1, 2, 3, 4, 5], how to build a new vector with 3 consecutive zeros interleaved between each value? (★★★)"
   ]
  },
  {
   "cell_type": "code",
   "execution_count": 54,
   "metadata": {
    "id": "bgIwFwB0zHqq"
   },
   "outputs": [
    {
     "name": "stdout",
     "output_type": "stream",
     "text": [
      "New Vector:\n",
      "[1, 1, 1, 2, 2, 2, 3, 3, 3, 4, 4, 4, 5, 5, 5]\n"
     ]
    }
   ],
   "source": [
    "original_vector = [1, 2, 3, 4, 5]\n",
    "consecutive_count = 3\n",
    "new_vector = [num for num in original_vector for _ in range(consecutive_count)]\n",
    "print(\"New Vector:\")\n",
    "print(new_vector)"
   ]
  },
  {
   "cell_type": "markdown",
   "metadata": {
    "id": "hS_Fk6vezHqq"
   },
   "source": [
    "#### 71. Consider an array of dimension (5,5,3), how to mulitply it by an array with dimensions (5,5)? (★★★)"
   ]
  },
  {
   "cell_type": "code",
   "execution_count": 55,
   "metadata": {
    "id": "5ltwibaHzHqq"
   },
   "outputs": [
    {
     "name": "stdout",
     "output_type": "stream",
     "text": [
      "Result Array:\n",
      "[[[10 12 18]\n",
      "  [ 5 20 10]\n",
      "  [18  6  6]\n",
      "  [72 45 81]\n",
      "  [ 4 36 12]]\n",
      "\n",
      " [[81 45 54]\n",
      "  [21 14 21]\n",
      "  [ 2  1  6]\n",
      "  [54 30 18]\n",
      "  [21  6 21]]\n",
      "\n",
      " [[10 15 40]\n",
      "  [ 4 12  2]\n",
      "  [ 9  8  8]\n",
      "  [10 35 30]\n",
      "  [ 8  2  2]]\n",
      "\n",
      " [[42 49 35]\n",
      "  [16 12 16]\n",
      "  [24 24 72]\n",
      "  [ 7 14 21]\n",
      "  [14 16 18]]\n",
      "\n",
      " [[32 24 20]\n",
      "  [72 36 54]\n",
      "  [27 27 81]\n",
      "  [24 24 15]\n",
      "  [12 24 24]]]\n"
     ]
    }
   ],
   "source": [
    "array1 = np.random.randint(1, 10, size=(5, 5, 3))\n",
    "array2 = np.random.randint(1, 10, size=(5, 5))\n",
    "result_array = array1 * array2[:, :, np.newaxis]\n",
    "print(\"Result Array:\")\n",
    "print(result_array)"
   ]
  },
  {
   "cell_type": "markdown",
   "metadata": {
    "id": "FqfvlccazHqq"
   },
   "source": [
    "#### 72. How to swap two rows of an array? (★★★)"
   ]
  },
  {
   "cell_type": "code",
   "execution_count": 56,
   "metadata": {
    "id": "yRlFdPbIzHqr"
   },
   "outputs": [
    {
     "name": "stdout",
     "output_type": "stream",
     "text": [
      "Array after swapping rows:\n",
      "[[1 2 3]\n",
      " [7 8 9]\n",
      " [7 8 9]]\n"
     ]
    }
   ],
   "source": [
    "array = np.array([[1, 2, 3],\n",
    "                  [4, 5, 6],\n",
    "                  [7, 8, 9]])\n",
    "array[1], array[2] = array[2], array[1]\n",
    "print(\"Array after swapping rows:\")\n",
    "print(array)"
   ]
  },
  {
   "cell_type": "markdown",
   "metadata": {
    "id": "p85rqcC6zHqr"
   },
   "source": [
    "#### 73. Consider a set of 10 triplets describing 10 triangles (with shared vertices), find the set of unique line segments composing all the  triangles (★★★)"
   ]
  },
  {
   "cell_type": "code",
   "execution_count": 58,
   "metadata": {
    "id": "NJnhbJcGzHqr"
   },
   "outputs": [
    {
     "name": "stdout",
     "output_type": "stream",
     "text": [
      "Unique Line Segments:\n",
      "(9, 10)\n",
      "(2, 4)\n",
      "(1, 2)\n",
      "(3, 4)\n",
      "(6, 8)\n",
      "(4, 6)\n",
      "(5, 7)\n",
      "(2, 3)\n",
      "(6, 7)\n",
      "(4, 5)\n",
      "(8, 9)\n",
      "(7, 9)\n",
      "(5, 6)\n",
      "(1, 3)\n",
      "(7, 8)\n"
     ]
    }
   ],
   "source": [
    "triplets = [\n",
    "    [(1, 2), (2, 3), (3, 4)],\n",
    "    [(4, 5), (5, 6), (6, 7)],\n",
    "    [(7, 8), (8, 9), (9, 10)],\n",
    "    [(1, 2), (2, 4), (4, 5)],\n",
    "    [(3, 4), (4, 6), (6, 7)],\n",
    "    [(5, 6), (6, 8), (8, 9)],\n",
    "    [(1, 3), (3, 4), (4, 6)],\n",
    "    [(2, 4), (4, 5), (5, 7)],\n",
    "    [(4, 6), (6, 7), (7, 9)],\n",
    "    [(1, 2), (2, 4), (4, 6)]\n",
    "]\n",
    "unique_segments = set()\n",
    "for triplet in triplets:\n",
    "    for segment in triplet:\n",
    "        unique_segments.add(tuple(sorted(segment))) \n",
    "unique_segments_list = list(unique_segments)\n",
    "print(\"Unique Line Segments:\")\n",
    "for segment in unique_segments_list:\n",
    "    print(segment)"
   ]
  },
  {
   "cell_type": "markdown",
   "metadata": {
    "id": "JrC57vewzHqr"
   },
   "source": [
    "#### 74. Given an array C that is a bincount, how to produce an array A such that np.bincount(A) == C? (★★★)"
   ]
  },
  {
   "cell_type": "code",
   "execution_count": 59,
   "metadata": {
    "id": "iyc1ufGizHqr"
   },
   "outputs": [
    {
     "name": "stdout",
     "output_type": "stream",
     "text": [
      "Array A:\n",
      "[1 2 2 4 4 4 5 5 6 8]\n"
     ]
    }
   ],
   "source": [
    "C = np.array([0, 1, 2, 0, 3, 2, 1, 0, 1])\n",
    "A = np.repeat(np.arange(len(C)), C)\n",
    "print(\"Array A:\")\n",
    "print(A)"
   ]
  },
  {
   "cell_type": "markdown",
   "metadata": {
    "id": "0jl_g6nHzHqs"
   },
   "source": [
    "#### 75. How to compute averages using a sliding window over an array? (★★★)"
   ]
  },
  {
   "cell_type": "code",
   "execution_count": 61,
   "metadata": {
    "id": "uFbeCk2FzHqs"
   },
   "outputs": [
    {
     "name": "stdout",
     "output_type": "stream",
     "text": [
      "Sliding Window Averages: [2.0, 3.0, 4.0, 5.0, 6.0, 7.0, 8.0]\n"
     ]
    }
   ],
   "source": [
    "def sliding_window_averages(arr, window_size):\n",
    "    if window_size <= 0:\n",
    "        raise ValueError(\"Window size must be greater than zero\")\n",
    "    if window_size > len(arr):\n",
    "        raise ValueError(\"Window size cannot be larger than the array length\")\n",
    "\n",
    "    averages = []\n",
    "    window_sum = sum(arr[:window_size]) \n",
    "    averages.append(window_sum / window_size) \n",
    "\n",
    "    for i in range(1, len(arr) - window_size + 1):\n",
    "        window_sum = window_sum - arr[i - 1] + arr[i + window_size - 1]\n",
    "        averages.append(window_sum / window_size)\n",
    "    return averages\n",
    "arr = [1, 2, 3, 4, 5, 6, 7, 8, 9]\n",
    "window_size = 3\n",
    "averages = sliding_window_averages(arr, window_size)\n",
    "print(\"Sliding Window Averages:\",averages)"
   ]
  },
  {
   "cell_type": "markdown",
   "metadata": {
    "id": "vkZmLlxwzHqs"
   },
   "source": [
    "#### 76. Consider a one-dimensional array Z, build a two-dimensional array whose first row is (Z[0],Z[1],Z[2]) and each subsequent row is  shifted by 1 (last row should be (Z[-3],Z[-2],Z[-1]) (★★★)"
   ]
  },
  {
   "cell_type": "code",
   "execution_count": 62,
   "metadata": {
    "id": "8TgCVX8zzHqs"
   },
   "outputs": [
    {
     "name": "stdout",
     "output_type": "stream",
     "text": [
      "Two-dimensional array:\n",
      "[[1 2 3]\n",
      " [2 3 4]\n",
      " [3 4 5]]\n"
     ]
    }
   ],
   "source": [
    "Z = np.array([1, 2, 3, 4, 5])\n",
    "num_rows = len(Z) - 2 \n",
    "result_array = np.array([Z[i:i+3] for i in range(num_rows)])\n",
    "print(\"Two-dimensional array:\")\n",
    "print(result_array)"
   ]
  },
  {
   "cell_type": "markdown",
   "metadata": {
    "id": "GJrT2eAAzHqs"
   },
   "source": [
    "#### 77. How to negate a boolean, or to change the sign of a float inplace? (★★★)"
   ]
  },
  {
   "cell_type": "code",
   "execution_count": 65,
   "metadata": {
    "id": "9jagKiznzHqs"
   },
   "outputs": [
    {
     "name": "stdout",
     "output_type": "stream",
     "text": [
      "False\n",
      "-3.14\n"
     ]
    }
   ],
   "source": [
    "#Boolean\n",
    "my_bool = True\n",
    "my_bool = not my_bool  \n",
    "print(my_bool)\n",
    "#Float\n",
    "my_float = 3.14\n",
    "my_float = -my_float \n",
    "print(my_float)"
   ]
  },
  {
   "cell_type": "markdown",
   "metadata": {
    "id": "B6xPyX_uzHqt"
   },
   "source": [
    "#### 78. Consider 2 sets of points P0,P1 describing lines (2d) and a point p, how to compute distance from p to each line i (P0[i],P1[i])? (★★★)"
   ]
  },
  {
   "cell_type": "code",
   "execution_count": 64,
   "metadata": {
    "id": "GdcHMF3gzHqt"
   },
   "outputs": [
    {
     "name": "stdout",
     "output_type": "stream",
     "text": [
      "Minimum distance from P to any line: 1.0\n",
      "All distances from P to lines: [1.0, 1.3416407864998738, 2.0]\n"
     ]
    }
   ],
   "source": [
    "def distance_to_lines(P, P0, P1):\n",
    "    distances = []\n",
    "    \n",
    "    for i in range(len(P0)):\n",
    "        D = np.array(P1[i]) - np.array(P0[i])\n",
    "        V = np.array(P) - np.array(P0[i])\n",
    "        d = np.abs(np.dot(V, D) / np.linalg.norm(D))\n",
    "        distances.append(d)\n",
    "    min_distance = min(distances)\n",
    "    return min_distance, distances\n",
    "P = (2, 3)  \n",
    "P0 = [(1, 1), (3, 4), (0, 5)] \n",
    "P1 = [(5, 1), (4, 6), (4, 5)] \n",
    "min_dist, all_distances = distance_to_lines(P, P0, P1)\n",
    "print(f\"Minimum distance from P to any line: {min_dist}\")\n",
    "print(f\"All distances from P to lines: {all_distances}\")"
   ]
  },
  {
   "cell_type": "markdown",
   "metadata": {
    "id": "3H-IWibhzHqt"
   },
   "source": [
    "#### 79. Consider 2 sets of points P0,P1 describing lines (2d) and a set of points P, how to compute distance from each point j (P[j]) to each line i (P0[i],P1[i])? (★★★)"
   ]
  },
  {
   "cell_type": "code",
   "execution_count": 66,
   "metadata": {
    "id": "3_dt3J9ozHqt"
   },
   "outputs": [
    {
     "name": "stdout",
     "output_type": "stream",
     "text": [
      "Distance from point (2, 3) to line 0: 1.0\n",
      "Distance from point (2, 3) to line 1: 1.3416407864998738\n",
      "Distance from point (2, 3) to line 2: 2.0\n",
      "Distance from point (1, 4) to line 0: 0.0\n",
      "Distance from point (1, 4) to line 1: 0.8944271909999159\n",
      "Distance from point (1, 4) to line 2: 1.0\n"
     ]
    }
   ],
   "source": [
    "def distance_point_to_lines(P, P0, P1):\n",
    "    distances = []\n",
    "\n",
    "    for j in range(len(P)):\n",
    "        point_distances = [] \n",
    "        for i in range(len(P0)):\n",
    "            D = np.array(P1[i]) - np.array(P0[i])\n",
    "            V = np.array(P[j]) - np.array(P0[i])\n",
    "            d = np.abs(np.dot(V, D) / np.linalg.norm(D))\n",
    "            point_distances.append(d)\n",
    "        distances.append(point_distances)\n",
    "\n",
    "    return distances\n",
    "P0 = [(1, 1), (3, 4), (0, 5)]  \n",
    "P1 = [(5, 1), (4, 6), (4, 5)] \n",
    "P = [(2, 3), (1, 4)]\n",
    "all_distances = distance_point_to_lines(P, P0, P1)\n",
    "for j, point_distances in enumerate(all_distances):\n",
    "    for i, distance in enumerate(point_distances):\n",
    "        print(f\"Distance from point {P[j]} to line {i}: {distance}\")"
   ]
  },
  {
   "cell_type": "markdown",
   "metadata": {
    "id": "-tR-WE7NzHqt"
   },
   "source": [
    "#### 80. Consider an arbitrary array, write a function that extract a subpart with a fixed shape and centered on a given element (pad with a `fill` value when necessary) (★★★)"
   ]
  },
  {
   "cell_type": "code",
   "execution_count": 68,
   "metadata": {
    "id": "wu2Jcz1xzHqt"
   },
   "outputs": [
    {
     "name": "stdout",
     "output_type": "stream",
     "text": [
      "[[ 2  3  4]\n",
      " [ 6  7  8]\n",
      " [10 11 12]]\n"
     ]
    }
   ],
   "source": [
    "def extract_centered_subpart(arr, center, subpart_shape, fill_value):\n",
    "    center_x, center_y = center\n",
    "    subpart_height, subpart_width = subpart_shape\n",
    "    start_x = max(center_x - subpart_width // 2, 0)\n",
    "    end_x = min(center_x + subpart_width // 2 + 1, arr.shape[0])\n",
    "    start_y = max(center_y - subpart_height // 2, 0)\n",
    "    end_y = min(center_y + subpart_height // 2 + 1, arr.shape[1])\n",
    "    subpart = np.full(subpart_shape, fill_value)\n",
    "    arr_slice = arr[start_x:end_x, start_y:end_y]\n",
    "    subpart_slice_x = max(subpart_width // 2 - center_x, 0)\n",
    "    subpart_slice_y = max(subpart_height // 2 - center_y, 0)\n",
    "    subpart_slice_x_end = subpart_slice_x + (end_x - start_x)\n",
    "    subpart_slice_y_end = subpart_slice_y + (end_y - start_y)\n",
    "    subpart[subpart_slice_x:subpart_slice_x_end, subpart_slice_y:subpart_slice_y_end] = arr_slice\n",
    "    return subpart\n",
    "arr = np.array([[1, 2, 3, 4],\n",
    "                [5, 6, 7, 8],\n",
    "                [9, 10, 11, 12]])\n",
    "center = (1, 2)\n",
    "subpart_shape = (3, 3) \n",
    "fill_value = 0\n",
    "result = extract_centered_subpart(arr, center, subpart_shape, fill_value)\n",
    "print(result)"
   ]
  },
  {
   "cell_type": "markdown",
   "metadata": {
    "id": "8BMYMhBxzHqu"
   },
   "source": [
    "#### 81. Consider an array Z = [1,2,3,4,5,6,7,8,9,10,11,12,13,14], how to generate an array R = [[1,2,3,4], [2,3,4,5], [3,4,5,6], ..., [11,12,13,14]]? (★★★)"
   ]
  },
  {
   "cell_type": "code",
   "execution_count": 69,
   "metadata": {
    "id": "BZc6sQ7hzHqu"
   },
   "outputs": [
    {
     "name": "stdout",
     "output_type": "stream",
     "text": [
      "[[ 1  2  3  4]\n",
      " [ 2  3  4  5]\n",
      " [ 3  4  5  6]\n",
      " [ 4  5  6  7]\n",
      " [ 5  6  7  8]\n",
      " [ 6  7  8  9]\n",
      " [ 7  8  9 10]\n",
      " [ 8  9 10 11]\n",
      " [ 9 10 11 12]\n",
      " [10 11 12 13]\n",
      " [11 12 13 14]]\n"
     ]
    }
   ],
   "source": [
    "Z = np.array([1, 2, 3, 4, 5, 6, 7, 8, 9, 10, 11, 12, 13, 14])\n",
    "subarray_length = 4\n",
    "num_subarrays = len(Z) - subarray_length + 1\n",
    "R = np.empty((num_subarrays, subarray_length), dtype=int)\n",
    "for i in range(num_subarrays):\n",
    "    R[i] = Z[i:i+subarray_length]\n",
    "\n",
    "print(R)"
   ]
  },
  {
   "cell_type": "markdown",
   "metadata": {
    "id": "s9_zUCcuzHqu"
   },
   "source": [
    "#### 82. Compute a matrix rank (★★★)"
   ]
  },
  {
   "cell_type": "code",
   "execution_count": 70,
   "metadata": {
    "id": "bdw6Z_E_zHqu"
   },
   "outputs": [
    {
     "name": "stdout",
     "output_type": "stream",
     "text": [
      "The rank of the matrix is: 2\n"
     ]
    }
   ],
   "source": [
    "matrix = np.array([[1, 2, 3],\n",
    "                   [4, 5, 6],\n",
    "                   [7, 8, 9]])\n",
    "rank = np.linalg.matrix_rank(matrix)\n",
    "print(f\"The rank of the matrix is: {rank}\")"
   ]
  },
  {
   "cell_type": "markdown",
   "metadata": {
    "id": "lIIgZUqXzHqu"
   },
   "source": [
    "#### 83. How to find the most frequent value in an array?"
   ]
  },
  {
   "cell_type": "code",
   "execution_count": 71,
   "metadata": {
    "id": "RsYwDfKCzHqv"
   },
   "outputs": [
    {
     "name": "stdout",
     "output_type": "stream",
     "text": [
      "The most frequent value is: 4\n"
     ]
    }
   ],
   "source": [
    "arr = np.array([1, 2, 2, 3, 3, 3, 4, 4, 4, 4])\n",
    "unique_elements, counts = np.unique(arr, return_counts=True)\n",
    "most_common_element = unique_elements[np.argmax(counts)]\n",
    "print(f\"The most frequent value is: {most_common_element}\")"
   ]
  },
  {
   "cell_type": "markdown",
   "metadata": {
    "id": "oE05d5HzzHqv"
   },
   "source": [
    "#### 84. Extract all the contiguous 3x3 blocks from a random 10x10 matrix (★★★)"
   ]
  },
  {
   "cell_type": "code",
   "execution_count": 72,
   "metadata": {
    "id": "D0Py_uBhzHqw"
   },
   "outputs": [
    {
     "name": "stdout",
     "output_type": "stream",
     "text": [
      "Submatrix 1:\n",
      "[[0.67649367 0.9980593  0.6746421 ]\n",
      " [0.35546264 0.46507373 0.05995278]\n",
      " [0.1238463  0.86043032 0.98588166]]\n",
      "\n",
      "Submatrix 2:\n",
      "[[0.9980593  0.6746421  0.14246136]\n",
      " [0.46507373 0.05995278 0.10578102]\n",
      " [0.86043032 0.98588166 0.51783184]]\n",
      "\n",
      "Submatrix 3:\n",
      "[[0.6746421  0.14246136 0.06962333]\n",
      " [0.05995278 0.10578102 0.56015657]\n",
      " [0.98588166 0.51783184 0.52004121]]\n",
      "\n",
      "Submatrix 4:\n",
      "[[0.14246136 0.06962333 0.12348154]\n",
      " [0.10578102 0.56015657 0.03411481]\n",
      " [0.51783184 0.52004121 0.25560068]]\n",
      "\n",
      "Submatrix 5:\n",
      "[[0.06962333 0.12348154 0.78137633]\n",
      " [0.56015657 0.03411481 0.8492099 ]\n",
      " [0.52004121 0.25560068 0.50819181]]\n",
      "\n",
      "Submatrix 6:\n",
      "[[0.12348154 0.78137633 0.81101297]\n",
      " [0.03411481 0.8492099  0.39739541]\n",
      " [0.25560068 0.50819181 0.48018262]]\n",
      "\n",
      "Submatrix 7:\n",
      "[[0.78137633 0.81101297 0.72154591]\n",
      " [0.8492099  0.39739541 0.28944643]\n",
      " [0.50819181 0.48018262 0.37908384]]\n",
      "\n",
      "Submatrix 8:\n",
      "[[0.81101297 0.72154591 0.32453925]\n",
      " [0.39739541 0.28944643 0.17383491]\n",
      " [0.48018262 0.37908384 0.41550057]]\n",
      "\n",
      "Submatrix 9:\n",
      "[[0.35546264 0.46507373 0.05995278]\n",
      " [0.1238463  0.86043032 0.98588166]\n",
      " [0.90386651 0.19929383 0.16887442]]\n",
      "\n",
      "Submatrix 10:\n",
      "[[0.46507373 0.05995278 0.10578102]\n",
      " [0.86043032 0.98588166 0.51783184]\n",
      " [0.19929383 0.16887442 0.15095561]]\n",
      "\n",
      "Submatrix 11:\n",
      "[[0.05995278 0.10578102 0.56015657]\n",
      " [0.98588166 0.51783184 0.52004121]\n",
      " [0.16887442 0.15095561 0.95489729]]\n",
      "\n",
      "Submatrix 12:\n",
      "[[0.10578102 0.56015657 0.03411481]\n",
      " [0.51783184 0.52004121 0.25560068]\n",
      " [0.15095561 0.95489729 0.73185273]]\n",
      "\n",
      "Submatrix 13:\n",
      "[[0.56015657 0.03411481 0.8492099 ]\n",
      " [0.52004121 0.25560068 0.50819181]\n",
      " [0.95489729 0.73185273 0.6576482 ]]\n",
      "\n",
      "Submatrix 14:\n",
      "[[0.03411481 0.8492099  0.39739541]\n",
      " [0.25560068 0.50819181 0.48018262]\n",
      " [0.73185273 0.6576482  0.03523647]]\n",
      "\n",
      "Submatrix 15:\n",
      "[[0.8492099  0.39739541 0.28944643]\n",
      " [0.50819181 0.48018262 0.37908384]\n",
      " [0.6576482  0.03523647 0.03384352]]\n",
      "\n",
      "Submatrix 16:\n",
      "[[0.39739541 0.28944643 0.17383491]\n",
      " [0.48018262 0.37908384 0.41550057]\n",
      " [0.03523647 0.03384352 0.44181777]]\n",
      "\n",
      "Submatrix 17:\n",
      "[[0.1238463  0.86043032 0.98588166]\n",
      " [0.90386651 0.19929383 0.16887442]\n",
      " [0.31760514 0.23472388 0.57370248]]\n",
      "\n",
      "Submatrix 18:\n",
      "[[0.86043032 0.98588166 0.51783184]\n",
      " [0.19929383 0.16887442 0.15095561]\n",
      " [0.23472388 0.57370248 0.99662812]]\n",
      "\n",
      "Submatrix 19:\n",
      "[[0.98588166 0.51783184 0.52004121]\n",
      " [0.16887442 0.15095561 0.95489729]\n",
      " [0.57370248 0.99662812 0.03219637]]\n",
      "\n",
      "Submatrix 20:\n",
      "[[0.51783184 0.52004121 0.25560068]\n",
      " [0.15095561 0.95489729 0.73185273]\n",
      " [0.99662812 0.03219637 0.9745615 ]]\n",
      "\n",
      "Submatrix 21:\n",
      "[[0.52004121 0.25560068 0.50819181]\n",
      " [0.95489729 0.73185273 0.6576482 ]\n",
      " [0.03219637 0.9745615  0.28449221]]\n",
      "\n",
      "Submatrix 22:\n",
      "[[0.25560068 0.50819181 0.48018262]\n",
      " [0.73185273 0.6576482  0.03523647]\n",
      " [0.9745615  0.28449221 0.28645194]]\n",
      "\n",
      "Submatrix 23:\n",
      "[[0.50819181 0.48018262 0.37908384]\n",
      " [0.6576482  0.03523647 0.03384352]\n",
      " [0.28449221 0.28645194 0.18747415]]\n",
      "\n",
      "Submatrix 24:\n",
      "[[0.48018262 0.37908384 0.41550057]\n",
      " [0.03523647 0.03384352 0.44181777]\n",
      " [0.28645194 0.18747415 0.91309007]]\n",
      "\n",
      "Submatrix 25:\n",
      "[[0.90386651 0.19929383 0.16887442]\n",
      " [0.31760514 0.23472388 0.57370248]\n",
      " [0.65960257 0.05171073 0.66182012]]\n",
      "\n",
      "Submatrix 26:\n",
      "[[0.19929383 0.16887442 0.15095561]\n",
      " [0.23472388 0.57370248 0.99662812]\n",
      " [0.05171073 0.66182012 0.81976381]]\n",
      "\n",
      "Submatrix 27:\n",
      "[[0.16887442 0.15095561 0.95489729]\n",
      " [0.57370248 0.99662812 0.03219637]\n",
      " [0.66182012 0.81976381 0.77787287]]\n",
      "\n",
      "Submatrix 28:\n",
      "[[0.15095561 0.95489729 0.73185273]\n",
      " [0.99662812 0.03219637 0.9745615 ]\n",
      " [0.81976381 0.77787287 0.7792617 ]]\n",
      "\n",
      "Submatrix 29:\n",
      "[[0.95489729 0.73185273 0.6576482 ]\n",
      " [0.03219637 0.9745615  0.28449221]\n",
      " [0.77787287 0.7792617  0.98224054]]\n",
      "\n",
      "Submatrix 30:\n",
      "[[0.73185273 0.6576482  0.03523647]\n",
      " [0.9745615  0.28449221 0.28645194]\n",
      " [0.7792617  0.98224054 0.55562687]]\n",
      "\n",
      "Submatrix 31:\n",
      "[[0.6576482  0.03523647 0.03384352]\n",
      " [0.28449221 0.28645194 0.18747415]\n",
      " [0.98224054 0.55562687 0.93718857]]\n",
      "\n",
      "Submatrix 32:\n",
      "[[0.03523647 0.03384352 0.44181777]\n",
      " [0.28645194 0.18747415 0.91309007]\n",
      " [0.55562687 0.93718857 0.66460093]]\n",
      "\n",
      "Submatrix 33:\n",
      "[[0.31760514 0.23472388 0.57370248]\n",
      " [0.65960257 0.05171073 0.66182012]\n",
      " [0.51509219 0.66023136 0.77883364]]\n",
      "\n",
      "Submatrix 34:\n",
      "[[0.23472388 0.57370248 0.99662812]\n",
      " [0.05171073 0.66182012 0.81976381]\n",
      " [0.66023136 0.77883364 0.93105363]]\n",
      "\n",
      "Submatrix 35:\n",
      "[[0.57370248 0.99662812 0.03219637]\n",
      " [0.66182012 0.81976381 0.77787287]\n",
      " [0.77883364 0.93105363 0.3235541 ]]\n",
      "\n",
      "Submatrix 36:\n",
      "[[0.99662812 0.03219637 0.9745615 ]\n",
      " [0.81976381 0.77787287 0.7792617 ]\n",
      " [0.93105363 0.3235541  0.51052186]]\n",
      "\n",
      "Submatrix 37:\n",
      "[[0.03219637 0.9745615  0.28449221]\n",
      " [0.77787287 0.7792617  0.98224054]\n",
      " [0.3235541  0.51052186 0.84227671]]\n",
      "\n",
      "Submatrix 38:\n",
      "[[0.9745615  0.28449221 0.28645194]\n",
      " [0.7792617  0.98224054 0.55562687]\n",
      " [0.51052186 0.84227671 0.21045182]]\n",
      "\n",
      "Submatrix 39:\n",
      "[[0.28449221 0.28645194 0.18747415]\n",
      " [0.98224054 0.55562687 0.93718857]\n",
      " [0.84227671 0.21045182 0.2137009 ]]\n",
      "\n",
      "Submatrix 40:\n",
      "[[0.28645194 0.18747415 0.91309007]\n",
      " [0.55562687 0.93718857 0.66460093]\n",
      " [0.21045182 0.2137009  0.19711257]]\n",
      "\n",
      "Submatrix 41:\n",
      "[[0.65960257 0.05171073 0.66182012]\n",
      " [0.51509219 0.66023136 0.77883364]\n",
      " [0.07718955 0.65235744 0.37100517]]\n",
      "\n",
      "Submatrix 42:\n",
      "[[0.05171073 0.66182012 0.81976381]\n",
      " [0.66023136 0.77883364 0.93105363]\n",
      " [0.65235744 0.37100517 0.21062577]]\n",
      "\n",
      "Submatrix 43:\n",
      "[[0.66182012 0.81976381 0.77787287]\n",
      " [0.77883364 0.93105363 0.3235541 ]\n",
      " [0.37100517 0.21062577 0.76638468]]\n",
      "\n",
      "Submatrix 44:\n",
      "[[0.81976381 0.77787287 0.7792617 ]\n",
      " [0.93105363 0.3235541  0.51052186]\n",
      " [0.21062577 0.76638468 0.67160219]]\n",
      "\n",
      "Submatrix 45:\n",
      "[[0.77787287 0.7792617  0.98224054]\n",
      " [0.3235541  0.51052186 0.84227671]\n",
      " [0.76638468 0.67160219 0.88398516]]\n",
      "\n",
      "Submatrix 46:\n",
      "[[0.7792617  0.98224054 0.55562687]\n",
      " [0.51052186 0.84227671 0.21045182]\n",
      " [0.67160219 0.88398516 0.21406259]]\n",
      "\n",
      "Submatrix 47:\n",
      "[[0.98224054 0.55562687 0.93718857]\n",
      " [0.84227671 0.21045182 0.2137009 ]\n",
      " [0.88398516 0.21406259 0.03156323]]\n",
      "\n",
      "Submatrix 48:\n",
      "[[0.55562687 0.93718857 0.66460093]\n",
      " [0.21045182 0.2137009  0.19711257]\n",
      " [0.21406259 0.03156323 0.13719702]]\n",
      "\n",
      "Submatrix 49:\n",
      "[[0.51509219 0.66023136 0.77883364]\n",
      " [0.07718955 0.65235744 0.37100517]\n",
      " [0.84880979 0.00436    0.21726174]]\n",
      "\n",
      "Submatrix 50:\n",
      "[[0.66023136 0.77883364 0.93105363]\n",
      " [0.65235744 0.37100517 0.21062577]\n",
      " [0.00436    0.21726174 0.19019563]]\n",
      "\n",
      "Submatrix 51:\n",
      "[[0.77883364 0.93105363 0.3235541 ]\n",
      " [0.37100517 0.21062577 0.76638468]\n",
      " [0.21726174 0.19019563 0.95268678]]\n",
      "\n",
      "Submatrix 52:\n",
      "[[0.93105363 0.3235541  0.51052186]\n",
      " [0.21062577 0.76638468 0.67160219]\n",
      " [0.19019563 0.95268678 0.21276058]]\n",
      "\n",
      "Submatrix 53:\n",
      "[[0.3235541  0.51052186 0.84227671]\n",
      " [0.76638468 0.67160219 0.88398516]\n",
      " [0.95268678 0.21276058 0.22155988]]\n",
      "\n",
      "Submatrix 54:\n",
      "[[0.51052186 0.84227671 0.21045182]\n",
      " [0.67160219 0.88398516 0.21406259]\n",
      " [0.21276058 0.22155988 0.63462211]]\n",
      "\n",
      "Submatrix 55:\n",
      "[[0.84227671 0.21045182 0.2137009 ]\n",
      " [0.88398516 0.21406259 0.03156323]\n",
      " [0.22155988 0.63462211 0.76938238]]\n",
      "\n",
      "Submatrix 56:\n",
      "[[0.21045182 0.2137009  0.19711257]\n",
      " [0.21406259 0.03156323 0.13719702]\n",
      " [0.63462211 0.76938238 0.06443985]]\n",
      "\n",
      "Submatrix 57:\n",
      "[[0.07718955 0.65235744 0.37100517]\n",
      " [0.84880979 0.00436    0.21726174]\n",
      " [0.94347841 0.25876937 0.76493931]]\n",
      "\n",
      "Submatrix 58:\n",
      "[[0.65235744 0.37100517 0.21062577]\n",
      " [0.00436    0.21726174 0.19019563]\n",
      " [0.25876937 0.76493931 0.87264355]]\n",
      "\n",
      "Submatrix 59:\n",
      "[[0.37100517 0.21062577 0.76638468]\n",
      " [0.21726174 0.19019563 0.95268678]\n",
      " [0.76493931 0.87264355 0.86929935]]\n",
      "\n",
      "Submatrix 60:\n",
      "[[0.21062577 0.76638468 0.67160219]\n",
      " [0.19019563 0.95268678 0.21276058]\n",
      " [0.87264355 0.86929935 0.09806566]]\n",
      "\n",
      "Submatrix 61:\n",
      "[[0.76638468 0.67160219 0.88398516]\n",
      " [0.95268678 0.21276058 0.22155988]\n",
      " [0.86929935 0.09806566 0.88744044]]\n",
      "\n",
      "Submatrix 62:\n",
      "[[0.67160219 0.88398516 0.21406259]\n",
      " [0.21276058 0.22155988 0.63462211]\n",
      " [0.09806566 0.88744044 0.7854961 ]]\n",
      "\n",
      "Submatrix 63:\n",
      "[[0.88398516 0.21406259 0.03156323]\n",
      " [0.22155988 0.63462211 0.76938238]\n",
      " [0.88744044 0.7854961  0.78611665]]\n",
      "\n",
      "Submatrix 64:\n",
      "[[0.21406259 0.03156323 0.13719702]\n",
      " [0.63462211 0.76938238 0.06443985]\n",
      " [0.7854961  0.78611665 0.34616388]]\n",
      "\n"
     ]
    }
   ],
   "source": [
    "matrix = np.random.rand(10, 10)\n",
    "submatrix_size = (3, 3)\n",
    "submatrices = []\n",
    "for i in range(10 - submatrix_size[0] + 1):\n",
    "    for j in range(10 - submatrix_size[1] + 1):\n",
    "        submatrix = matrix[i:i+submatrix_size[0], j:j+submatrix_size[1]]\n",
    "        submatrices.append(submatrix)\n",
    "for idx, submatrix in enumerate(submatrices):\n",
    "    print(f\"Submatrix {idx + 1}:\\n{submatrix}\\n\")"
   ]
  },
  {
   "cell_type": "markdown",
   "metadata": {
    "id": "IPsfMWijzHqw"
   },
   "source": [
    "#### 85. Create a 2D array subclass such that Z[i,j] == Z[j,i] (★★★)"
   ]
  },
  {
   "cell_type": "code",
   "execution_count": 73,
   "metadata": {
    "id": "uCJzXbkXzHqw"
   },
   "outputs": [
    {
     "name": "stdout",
     "output_type": "stream",
     "text": [
      "0.8749143259617206\n",
      "0.5404855770877754\n"
     ]
    }
   ],
   "source": [
    "class SymmetricArray(np.ndarray):\n",
    "    def _getitem_(self, key):\n",
    "        i, j = key\n",
    "        return super()._getitem((i, j)) if i <= j else super().__getitem_((j, i))\n",
    "n = 5  \n",
    "symmetric_matrix = np.random.rand(n, n)  \n",
    "symmetric_array = SymmetricArray(shape=(n, n), buffer=symmetric_matrix)\n",
    "print(symmetric_array[1, 2]) \n",
    "print(symmetric_array[3, 4]) "
   ]
  },
  {
   "cell_type": "markdown",
   "metadata": {
    "id": "qhW-9yqyzHqw"
   },
   "source": [
    "#### 86. Consider a set of p matrices wich shape (n,n) and a set of p vectors with shape (n,1). How to compute the sum of of the p matrix products at once? (result has shape (n,1)) (★★★)"
   ]
  },
  {
   "cell_type": "code",
   "execution_count": 74,
   "metadata": {
    "id": "2Gk0cW9uzHqx"
   },
   "outputs": [
    {
     "ename": "NameError",
     "evalue": "name 'matrices' is not defined",
     "output_type": "error",
     "traceback": [
      "\u001b[1;31m---------------------------------------------------------------------------\u001b[0m",
      "\u001b[1;31mNameError\u001b[0m                                 Traceback (most recent call last)",
      "Cell \u001b[1;32mIn[74], line 1\u001b[0m\n\u001b[1;32m----> 1\u001b[0m P\u001b[38;5;241m=\u001b[39m \u001b[38;5;28mlen\u001b[39m(matrices)  \u001b[38;5;66;03m# Replace 'matrices' and 'vectors' with your actual data\u001b[39;00m\n\u001b[0;32m      3\u001b[0m \u001b[38;5;66;03m# Initialize a variable to store the sum of products\u001b[39;00m\n\u001b[0;32m      4\u001b[0m result \u001b[38;5;241m=\u001b[39m np\u001b[38;5;241m.\u001b[39mzeros((n, \u001b[38;5;241m1\u001b[39m))\n",
      "\u001b[1;31mNameError\u001b[0m: name 'matrices' is not defined"
     ]
    }
   ],
   "source": [
    "P= len(matrices) \n",
    "result = np.zeros((n, 1))\n",
    "for i in range(P):\n",
    "    product = np.dot(matrices[i], vectors[i])\n",
    "    result += product"
   ]
  },
  {
   "cell_type": "markdown",
   "metadata": {
    "id": "-NUHSBfXzHqx"
   },
   "source": [
    "#### 87. Consider a 16x16 array, how to get the block-sum (block size is 4x4)? (★★★)"
   ]
  },
  {
   "cell_type": "code",
   "execution_count": 97,
   "metadata": {
    "id": "WWQMXBnJzHqx"
   },
   "outputs": [
    {
     "name": "stdout",
     "output_type": "stream",
     "text": [
      "[[0.04399596 0.10671275 0.66903878 0.05456473]\n",
      " [0.431611   0.93415863 0.58171183 0.67264676]\n",
      " [0.32339043 0.5170681  0.40422018 0.46999356]\n",
      " [0.99823597 0.57543617 0.1013073  0.87193266]]\n",
      "[[0.6530328  0.71163636 0.7110871  0.03314996]\n",
      " [0.90714227 0.47828414 0.69483258 0.90029771]\n",
      " [0.9304143  0.21413268 0.43338374 0.50602578]\n",
      " [0.39584916 0.70571264 0.6965227  0.74049031]]\n",
      "[[0.58983024 0.50395922 0.20322274 0.17633417]\n",
      " [0.88646064 0.73581171 0.83363473 0.29161007]\n",
      " [0.54252361 0.41204777 0.50073285 0.76373235]\n",
      " [0.71934172 0.34715939 0.83143775 0.30836983]]\n",
      "[[0.40321424 0.68343619 0.4071285  0.99717513]\n",
      " [0.75535036 0.33996656 0.0135898  0.82099615]\n",
      " [0.33925928 0.71995075 0.55903371 0.21751252]\n",
      " [0.87207559 0.57108339 0.67023484 0.76163929]]\n",
      "[[0.43592328 0.39376295 0.07413302 0.13816942]\n",
      " [0.34116834 0.22493141 0.5775496  0.94155584]\n",
      " [0.85016781 0.59084163 0.25054269 0.05333051]\n",
      " [0.64703772 0.21906908 0.2671296  0.59513727]]\n",
      "[[0.60643573 0.15244086 0.23627895 0.53651497]\n",
      " [0.99577278 0.23771738 0.04900562 0.72888924]\n",
      " [0.54459937 0.8016974  0.70280354 0.83324529]\n",
      " [0.39772378 0.45136439 0.12569082 0.55869508]]\n",
      "[[0.30849512 0.85136435 0.85504898 0.19350333]\n",
      " [0.11079458 0.32016923 0.98157596 0.32755992]\n",
      " [0.40775722 0.9975504  0.88885022 0.14759514]\n",
      " [0.90077332 0.58983983 0.03860871 0.02486458]]\n",
      "[[0.9325298  0.64930005 0.1133987  0.25013633]\n",
      " [0.36897318 0.07109283 0.97447094 0.15269562]\n",
      " [0.2022814  0.03548391 0.01269192 0.52828094]\n",
      " [0.26110644 0.10884904 0.1406622  0.55508868]]\n",
      "[[0.22163622 0.70136486 0.99470872 0.21320665]\n",
      " [0.06343614 0.37668798 0.40186304 0.42573014]\n",
      " [0.07415452 0.63588334 0.11828124 0.92112303]\n",
      " [0.75190545 0.85784731 0.20052037 0.29828865]]\n",
      "[[0.06431036 0.08099735 0.58336436 0.19534841]\n",
      " [0.97518668 0.6019284  0.11959946 0.10954319]\n",
      " [0.35927817 0.62626021 0.07344417 0.99454334]\n",
      " [0.82498067 0.65224161 0.06706332 0.51577689]]\n",
      "[[0.99661391 0.8347234  0.93807119 0.58446726]\n",
      " [0.46810323 0.29451574 0.61570602 0.08066699]\n",
      " [0.22745484 0.13186966 0.92136138 0.82006428]\n",
      " [0.20086461 0.91710866 0.0126471  0.60086457]]\n",
      "[[0.0302568  0.42695427 0.62509473 0.73519319]\n",
      " [0.79640637 0.10789186 0.0485648  0.61596124]\n",
      " [0.18889907 0.32507381 0.35365204 0.65395453]\n",
      " [0.60319408 0.66510099 0.53664305 0.1425992 ]]\n",
      "[[0.21203976 0.88713888 0.09438815 0.58976872]\n",
      " [0.96690822 0.87105684 0.27809048 0.15344962]\n",
      " [0.45807278 0.56584674 0.72724965 0.83185627]\n",
      " [0.75873967 0.89641884 0.2785734  0.54599076]]\n",
      "[[0.43176176 0.00616957 0.4261553  0.67509606]\n",
      " [0.16447439 0.55651246 0.00685648 0.25350265]\n",
      " [0.16857302 0.09104165 0.43459623 0.91524827]\n",
      " [0.60451598 0.47025226 0.51829166 0.70525787]]\n",
      "[[0.06192395 0.36161108 0.24828096 0.12723735]\n",
      " [0.64730146 0.5578772  0.07073625 0.06115014]\n",
      " [0.92309949 0.28125414 0.82278616 0.12948148]\n",
      " [0.90134053 0.08345194 0.99946721 0.72861798]]\n",
      "[[0.1906012  0.71636252 0.78242057 0.47650051]\n",
      " [0.98783245 0.82231    0.8579293  0.81148527]\n",
      " [0.0950976  0.04510396 0.11806978 0.95012493]\n",
      " [0.53057776 0.27086835 0.77562697 0.31286514]]\n"
     ]
    }
   ],
   "source": [
    "array_16x16 = np.random.rand(16, 16)\n",
    "block_size = 4\n",
    "block_sums = np.zeros((16 // block_size, 16 // block_size))\n",
    "for i in range(0, 16, block_size):\n",
    "    for j in range(0, 16, block_size):\n",
    "        block = array_16x16[i:i+block_size, j:j+block_size]\n",
    "        block_sums[i//block_size, j//block_size] = np.sum(block)\n",
    "        print(block)"
   ]
  },
  {
   "cell_type": "markdown",
   "metadata": {
    "id": "bbFrGk-azHqy"
   },
   "source": [
    "#### 88. How to implement the Game of Life using numpy arrays? (★★★)"
   ]
  },
  {
   "cell_type": "code",
   "execution_count": 100,
   "metadata": {},
   "outputs": [
    {
     "name": "stdout",
     "output_type": "stream",
     "text": [
      "Collecting plotNote: you may need to restart the kernel to use updated packages.\n",
      "\n",
      "  Downloading plot-0.6.5-py2.py3-none-any.whl (135 kB)\n",
      "     ---------------------------------------- 0.0/135.1 kB ? eta -:--:--\n",
      "     -------------------------------------  133.1/135.1 kB 4.0 MB/s eta 0:00:01\n",
      "     -------------------------------------  133.1/135.1 kB 4.0 MB/s eta 0:00:01\n",
      "     -------------------------------------- 135.1/135.1 kB 1.3 MB/s eta 0:00:00\n",
      "Requirement already satisfied: matplotlib in d:\\users\\twaib\\anaconda3\\lib\\site-packages (from plot) (3.7.1)\n",
      "Collecting typing (from plot)\n",
      "  Downloading typing-3.7.4.3.tar.gz (78 kB)\n",
      "     ---------------------------------------- 0.0/78.6 kB ? eta -:--:--\n",
      "     ---------------------------------------- 78.6/78.6 kB 2.1 MB/s eta 0:00:00\n",
      "  Preparing metadata (setup.py): started\n",
      "  Preparing metadata (setup.py): finished with status 'done'\n",
      "Requirement already satisfied: numpy in d:\\users\\twaib\\anaconda3\\lib\\site-packages (from plot) (1.24.3)\n",
      "Requirement already satisfied: scipy in d:\\users\\twaib\\anaconda3\\lib\\site-packages (from plot) (1.10.1)\n",
      "Requirement already satisfied: pyyaml in d:\\users\\twaib\\anaconda3\\lib\\site-packages (from plot) (6.0)\n",
      "Requirement already satisfied: contourpy>=1.0.1 in d:\\users\\twaib\\anaconda3\\lib\\site-packages (from matplotlib->plot) (1.0.5)\n",
      "Requirement already satisfied: cycler>=0.10 in d:\\users\\twaib\\anaconda3\\lib\\site-packages (from matplotlib->plot) (0.11.0)\n",
      "Requirement already satisfied: fonttools>=4.22.0 in d:\\users\\twaib\\anaconda3\\lib\\site-packages (from matplotlib->plot) (4.25.0)\n",
      "Requirement already satisfied: kiwisolver>=1.0.1 in d:\\users\\twaib\\anaconda3\\lib\\site-packages (from matplotlib->plot) (1.4.4)\n",
      "Requirement already satisfied: packaging>=20.0 in d:\\users\\twaib\\anaconda3\\lib\\site-packages (from matplotlib->plot) (23.0)\n",
      "Requirement already satisfied: pillow>=6.2.0 in d:\\users\\twaib\\anaconda3\\lib\\site-packages (from matplotlib->plot) (9.4.0)\n",
      "Requirement already satisfied: pyparsing>=2.3.1 in d:\\users\\twaib\\anaconda3\\lib\\site-packages (from matplotlib->plot) (3.0.9)\n",
      "Requirement already satisfied: python-dateutil>=2.7 in d:\\users\\twaib\\anaconda3\\lib\\site-packages (from matplotlib->plot) (2.8.2)\n",
      "Requirement already satisfied: six>=1.5 in d:\\users\\twaib\\anaconda3\\lib\\site-packages (from python-dateutil>=2.7->matplotlib->plot) (1.16.0)\n",
      "Building wheels for collected packages: typing\n",
      "  Building wheel for typing (setup.py): started\n",
      "  Building wheel for typing (setup.py): finished with status 'done'\n",
      "  Created wheel for typing: filename=typing-3.7.4.3-py3-none-any.whl size=26325 sha256=9bf7c929c25de41c0449f106c74f97f274f556906511b04bdbfaa4e895e0d248\n",
      "  Stored in directory: c:\\users\\twaib\\appdata\\local\\pip\\cache\\wheels\\9d\\67\\2f\\53e3ef32ec48d11d7d60245255e2d71e908201d20c880c08ee\n",
      "Successfully built typing\n",
      "Installing collected packages: typing, plot\n",
      "Successfully installed plot-0.6.5 typing-3.7.4.3\n"
     ]
    }
   ],
   "source": [
    "pip install plot"
   ]
  },
  {
   "cell_type": "code",
   "execution_count": 102,
   "metadata": {
    "id": "ie51D94yzHqy"
   },
   "outputs": [
    {
     "name": "stderr",
     "output_type": "stream",
     "text": [
      "D:\\Users\\twaib\\anaconda3\\Lib\\site-packages\\matplotlib\\animation.py:884: UserWarning: Animation was deleted without rendering anything. This is most likely not intended. To prevent deletion, assign the Animation to a variable, e.g. `anim`, that exists until you output the Animation using `plt.show()` or `anim.save()`.\n",
      "  warnings.warn(\n"
     ]
    },
    {
     "data": {
      "image/png": "[encoded data removed]",
      "text/plain": [
       "<Figure size 640x480 with 1 Axes>"
      ]
     },
     "metadata": {},
     "output_type": "display_data"
    }
   ],
   "source": [
    "import numpy as np\n",
    "import matplotlib.pyplot as plt\n",
    "import matplotlib.animation as animation\n",
    "rows, cols = 50, 50\n",
    "grid = np.random.choice([0, 1], size=(rows, cols))\n",
    "def update_grid(grid):\n",
    "    new_grid = grid.copy()\n",
    "    for i in range(rows):\n",
    "        for j in range(cols):\n",
    "            neighbors = grid[max(0, i - 1):i + 2, max(0, j - 1):j + 2].sum() - grid[i, j]\n",
    "            if grid[i, j] == 1:\n",
    "                if neighbors < 2 or neighbors > 3:\n",
    "                    new_grid[i, j] = 0\n",
    "            else:\n",
    "                if neighbors == 3:\n",
    "                    new_grid[i, j] = 1\n",
    "    return new_grid\n",
    "fig, ax = plt.subplots()\n",
    "def update(frame):\n",
    "    ax.clear()\n",
    "    ax.imshow(grid, interpolation='nearest', cmap='gray')\n",
    "    grid[:] = update_grid(grid)\n",
    "ani = animation.FuncAnimation(fig, update, frames=100, interval=200)\n",
    "\n",
    "plt.show()"
   ]
  },
  {
   "cell_type": "markdown",
   "metadata": {
    "id": "6BGgqrw5zHqy"
   },
   "source": [
    "#### 89. How to get the n largest values of an array (★★★)"
   ]
  },
  {
   "cell_type": "code",
   "execution_count": 79,
   "metadata": {
    "id": "BdX5W7RLzHqy"
   },
   "outputs": [
    {
     "name": "stdout",
     "output_type": "stream",
     "text": [
      "[20, 15, 10]\n"
     ]
    }
   ],
   "source": [
    "def get_n_largest(arr, n):\n",
    "    sorted_arr = sorted(arr, reverse=True)\n",
    "    n_largest = sorted_arr[:n]\n",
    "    return n_largest\n",
    "\n",
    "# Example usage:\n",
    "my_array = [10, 3, 7, 1, 8, 20, 15]\n",
    "n = 3\n",
    "result = get_n_largest(my_array, n)\n",
    "print(result) "
   ]
  },
  {
   "cell_type": "markdown",
   "metadata": {
    "id": "TTS03YKWzHqy"
   },
   "source": [
    "#### 90. Given an arbitrary number of vectors, build the cartesian product (every combinations of every item) (★★★)"
   ]
  },
  {
   "cell_type": "code",
   "execution_count": 81,
   "metadata": {
    "id": "m_wY0W4pzHqz"
   },
   "outputs": [
    {
     "name": "stdout",
     "output_type": "stream",
     "text": [
      "[(1, 'a', 10), (1, 'a', 20), (1, 'b', 10), (1, 'b', 20), (2, 'a', 10), (2, 'a', 20), (2, 'b', 10), (2, 'b', 20)]\n"
     ]
    }
   ],
   "source": [
    "import itertools\n",
    "def cartesian_product(*vectors):\n",
    "    # Use itertools.product to calculate the Cartesian product\n",
    "    result = list(itertools.product(*vectors))\n",
    "    return result\n",
    "vector1 = [1, 2]\n",
    "vector2 = ['a', 'b']\n",
    "vector3 = [10, 20]\n",
    "product = cartesian_product(vector1, vector2, vector3)\n",
    "print(product)"
   ]
  },
  {
   "cell_type": "markdown",
   "metadata": {
    "id": "dI50jUNqzHqz"
   },
   "source": [
    "#### 91. How to create a record array from a regular array? (★★★)"
   ]
  },
  {
   "cell_type": "code",
   "execution_count": 82,
   "metadata": {
    "id": "Gh9v85v8zHqz"
   },
   "outputs": [
    {
     "name": "stdout",
     "output_type": "stream",
     "text": [
      "[1 2 3]\n",
      "['Alice' 'Bob' 'Charlie']\n",
      "[25 30 35]\n"
     ]
    }
   ],
   "source": [
    "import numpy as np\n",
    "regular_array = [(1, 'Alice', 25), (2, 'Bob', 30), (3, 'Charlie', 35)]\n",
    "dtypes = [('ID', int), ('Name', 'U20'), ('Age', int)]\n",
    "record_array = np.array(regular_array, dtype=dtypes)\n",
    "print(record_array['ID'])  \n",
    "print(record_array['Name']) \n",
    "print(record_array['Age'])  "
   ]
  },
  {
   "cell_type": "markdown",
   "metadata": {
    "id": "sF5VDidfzHqz"
   },
   "source": [
    "#### 92. Consider a large vector Z, compute Z to the power of 3 using 3 different methods (★★★)"
   ]
  },
  {
   "cell_type": "code",
   "execution_count": 85,
   "metadata": {},
   "outputs": [
    {
     "ename": "SyntaxError",
     "evalue": "invalid non-printable character U+00A0 (1069749991.py, line 11)",
     "output_type": "error",
     "traceback": [
      "\u001b[1;36m  Cell \u001b[1;32mIn[85], line 11\u001b[1;36m\u001b[0m\n\u001b[1;33m    result3 = np.power(z, 3)\u001b[0m\n\u001b[1;37m             ^\u001b[0m\n\u001b[1;31mSyntaxError\u001b[0m\u001b[1;31m:\u001b[0m invalid non-printable character U+00A0\n"
     ]
    }
   ],
   "source": [
    "# Method 1: Using a for loop\n",
    "result1 = []\n",
    "for num in z:\n",
    "    result1.append(num ** 3)\n",
    "    \n",
    "# Method 2: Using list comprehension\n",
    "result2 = [num ** 3 for num in z]\n",
    "\n",
    "#Method 3: Using Numpy\n",
    "z = np.random.rand(1000)  \n",
    "result3 = np.power(z, 3)\n",
    "print(result3)"
   ]
  },
  {
   "cell_type": "markdown",
   "metadata": {
    "id": "Abs-hZXuzHqz"
   },
   "source": [
    "#### 93. Consider two arrays A and B of shape (8,3) and (2,2). How to find rows of A that contain elements of each row of B regardless of the order of the elements in B? (★★★)"
   ]
  },
  {
   "cell_type": "code",
   "execution_count": 87,
   "metadata": {
    "id": "uPPu-I_azHq0"
   },
   "outputs": [
    {
     "name": "stdout",
     "output_type": "stream",
     "text": [
      "[]\n"
     ]
    }
   ],
   "source": [
    "A = np.array([[1, 2, 3],\n",
    "              [4, 5, 6],\n",
    "              [2, 1, 3],\n",
    "              [7, 8, 9],\n",
    "              [9, 7, 8],\n",
    "              [3, 2, 1],\n",
    "              [0, 0, 0],\n",
    "              [5, 4, 6]])\n",
    "B = np.array([[1, 2],\n",
    "              [4, 5]])\n",
    "result_rows = []\n",
    "for row_A in A:\n",
    "    contains_elements = all(np.isin(row_A, B))\n",
    "    if contains_elements:\n",
    "        result_rows.append(row_A)\n",
    "result_array = np.array(result_rows)\n",
    "print(result_array)"
   ]
  },
  {
   "cell_type": "markdown",
   "metadata": {
    "id": "FTIv6nIMzHq0"
   },
   "source": [
    "#### 94. Considering a 10x3 matrix, extract rows with unequal values (e.g. [2,2,3]) (★★★)"
   ]
  },
  {
   "cell_type": "code",
   "execution_count": 88,
   "metadata": {
    "id": "YjIakhcKzHq0"
   },
   "outputs": [
    {
     "name": "stdout",
     "output_type": "stream",
     "text": [
      "[[1 2 3]\n",
      " [3 4 3]\n",
      " [1 2 3]\n",
      " [3 2 1]\n",
      " [1 2 3]]\n"
     ]
    }
   ],
   "source": [
    "matrix = np.array([[1, 2, 3],\n",
    "                  [1, 1, 1],\n",
    "                  [2, 2, 2],\n",
    "                  [3, 4, 3],\n",
    "                  [5, 5, 5],\n",
    "                  [0, 0, 0],\n",
    "                  [1, 2, 3],\n",
    "                  [3, 2, 1],\n",
    "                  [1, 2, 3],\n",
    "                  [7, 7, 7]])\n",
    "unequal_rows = []\n",
    "for row in matrix:\n",
    "    if len(np.unique(row)) > 1:\n",
    "        unequal_rows.append(row)\n",
    "unequal_rows_matrix = np.array(unequal_rows)\n",
    "print(unequal_rows_matrix)"
   ]
  },
  {
   "cell_type": "markdown",
   "metadata": {
    "id": "GScLOYaQzHq0"
   },
   "source": [
    "#### 95. Convert a vector of ints into a matrix binary representation (★★★)"
   ]
  },
  {
   "cell_type": "code",
   "execution_count": 89,
   "metadata": {
    "id": "-g2DZAVMzHq0"
   },
   "outputs": [
    {
     "name": "stdout",
     "output_type": "stream",
     "text": [
      "[[0 1 0 1]\n",
      " [1 0 0 1]\n",
      " [0 0 1 1]\n",
      " [1 1 0 0]\n",
      " [0 1 1 1]]\n"
     ]
    }
   ],
   "source": [
    "vector = np.array([5, 9, 3, 12, 7])\n",
    "max_value = np.max(vector)\n",
    "num_bits = int(np.ceil(np.log2(max_value + 1)))\n",
    "binary_matrix = np.zeros((len(vector), num_bits), dtype=int)\n",
    "for i, num in enumerate(vector):\n",
    "    binary_representation = np.binary_repr(num, width=num_bits)\n",
    "    binary_matrix[i] = [int(bit) for bit in binary_representation]\n",
    "print(binary_matrix)"
   ]
  },
  {
   "cell_type": "markdown",
   "metadata": {
    "id": "kXntfMpLzHq0"
   },
   "source": [
    "#### 96. Given a two dimensional array, how to extract unique rows? (★★★)"
   ]
  },
  {
   "cell_type": "code",
   "execution_count": 90,
   "metadata": {
    "id": "HOiAjGq2zHq1"
   },
   "outputs": [
    {
     "name": "stdout",
     "output_type": "stream",
     "text": [
      "[[ 1  2  3]\n",
      " [ 4  5  6]\n",
      " [ 7  8  9]\n",
      " [10 11 12]]\n"
     ]
    }
   ],
   "source": [
    "array_2d = np.array([[1, 2, 3],\n",
    "                     [4, 5, 6],\n",
    "                     [1, 2, 3],\n",
    "                     [7, 8, 9],\n",
    "                     [4, 5, 6],\n",
    "                     [10, 11, 12]])\n",
    "unique_rows = np.unique(array_2d, axis=0)\n",
    "print(unique_rows)"
   ]
  },
  {
   "cell_type": "markdown",
   "metadata": {
    "id": "p9Nw-WBrzHq1"
   },
   "source": [
    "#### 97. Considering 2 vectors A & B, write the einsum equivalent of inner, outer, sum, and mul function (★★★)"
   ]
  },
  {
   "cell_type": "code",
   "execution_count": 91,
   "metadata": {
    "id": "7DzOZkWizHq1"
   },
   "outputs": [
    {
     "name": "stdout",
     "output_type": "stream",
     "text": [
      "Inner Product (Dot Product): 32\n",
      "\n",
      "Outer Product:\n",
      " [[ 4  5  6]\n",
      " [ 8 10 12]\n",
      " [12 15 18]]\n",
      "\n",
      "Element-wise Sum:\n",
      " [ 4 10 18]\n",
      "\n",
      "Element-wise Multiplication:\n",
      " [ 4 10 18]\n"
     ]
    }
   ],
   "source": [
    "A = np.array([1, 2, 3])\n",
    "B = np.array([4, 5, 6])\n",
    "\n",
    "# Inner Product (Dot Product)\n",
    "inner_product = np.einsum('i,i->', A, B)\n",
    "print(\"Inner Product (Dot Product):\", inner_product)\n",
    "\n",
    "# Outer Product\n",
    "outer_product = np.einsum('i,j->ij', A, B)\n",
    "print(\"\\nOuter Product:\\n\", outer_product)\n",
    "\n",
    "# Element-wise Sum\n",
    "elementwise_sum = np.einsum('i,i->i', A, B)\n",
    "print(\"\\nElement-wise Sum:\\n\", elementwise_sum)\n",
    "\n",
    "# Element-wise Multiplication\n",
    "elementwise_mul = np.einsum('i,i->i', A, B)\n",
    "print(\"\\nElement-wise Multiplication:\\n\", elementwise_mul)"
   ]
  },
  {
   "cell_type": "markdown",
   "metadata": {
    "id": "Gqk5d3LWzHq1"
   },
   "source": [
    "#### 98. Considering a path described by two vectors (X,Y), how to sample it using equidistant samples (★★★)?"
   ]
  },
  {
   "cell_type": "code",
   "execution_count": 94,
   "metadata": {
    "id": "L8jIvcG9zHq1"
   },
   "outputs": [
    {
     "name": "stdout",
     "output_type": "stream",
     "text": [
      "Sample 1: x = 0, y = 0\n",
      "Sample 2: x = 0.700276245007365, y = 1.40055249001473\n",
      "Sample 3: x = 2.2129140356863073, y = 3.2129140356863073\n",
      "Sample 4: x = 5.57297921889039, y = 3.14234026036987\n",
      "Sample 5: x = 7.084863293863275, y = 4.627294940794913\n",
      "Sample 6: x = 9.084863293863275, y = 7.627294940794913\n",
      "Sample 7: x = 10, y = 9\n"
     ]
    }
   ],
   "source": [
    "x = np.array([0, 1, 3, 6, 8, 10])\n",
    "y = np.array([0, 2, 4, 3, 6, 9])\n",
    "path_length = np.sum(np.sqrt(np.diff(x)**2 + np.diff(y)**2))\n",
    "num_samples = 10\n",
    "step_size = path_length / (num_samples - 1)\n",
    "sampled_x = [x[0]]\n",
    "sampled_y = [y[0]]\n",
    "remaining_distance = step_size\n",
    "for i in range(len(x) - 1):\n",
    "    dx = x[i + 1] - x[i]\n",
    "    dy = y[i + 1] - y[i]\n",
    "    segment_length = np.sqrt(dx*2 + dy*2)\n",
    "    \n",
    "    if remaining_distance < segment_length:\n",
    "        alpha = remaining_distance / segment_length\n",
    "        sampled_x.append(x[i] + alpha * dx)\n",
    "        sampled_y.append(y[i] + alpha * dy)\n",
    "        remaining_distance = step_size\n",
    "    else:\n",
    "        remaining_distance -= segment_length\n",
    "sampled_x.append(x[-1])\n",
    "sampled_y.append(y[-1])\n",
    "for i, (sample_x, sample_y) in enumerate(zip(sampled_x, sampled_y)):\n",
    "    print(f\"Sample {i+1}: x = {sample_x}, y = {sample_y}\")"
   ]
  },
  {
   "cell_type": "markdown",
   "metadata": {
    "id": "kaZDWcOJzHq2"
   },
   "source": [
    "#### 99. Given an integer n and a 2D array X, select from X the rows which can be interpreted as draws from a multinomial distribution with n degrees, i.e., the rows which only contain integers and which sum to n. (★★★)"
   ]
  },
  {
   "cell_type": "code",
   "execution_count": 95,
   "metadata": {
    "id": "gerd87Z9zHq2"
   },
   "outputs": [
    {
     "name": "stdout",
     "output_type": "stream",
     "text": [
      "[[1 2 2]\n",
      " [0 3 2]\n",
      " [5 0 0]\n",
      " [2 2 1]]\n"
     ]
    }
   ],
   "source": [
    "n = 5\n",
    "x = np.array([[1, 2, 2],\n",
    "              [0, 3, 2],\n",
    "              [5, 0, 0],\n",
    "              [2, 2, 1]])\n",
    "valid_rows = []\n",
    "for row in x:\n",
    "    if np.sum(row) == n and np.all(row == np.floor(row)):\n",
    "        valid_rows.append(row)\n",
    "valid_rows = np.array(valid_rows)\n",
    "print(valid_rows)"
   ]
  },
  {
   "cell_type": "markdown",
   "metadata": {
    "id": "VH1zgrKOzHq2"
   },
   "source": [
    "#### 100. Compute bootstrapped 95% confidence intervals for the mean of a 1D array X (i.e., resample the elements of an array with replacement N times, compute the mean of each sample, and then compute percentiles over the means). (★★★)"
   ]
  },
  {
   "cell_type": "code",
   "execution_count": 96,
   "metadata": {},
   "outputs": [
    {
     "name": "stdout",
     "output_type": "stream",
     "text": [
      "Bootstrapped 95% Confidence Interval for the Mean: [3.1975 6.3   ]\n"
     ]
    }
   ],
   "source": [
    "X = np.array([3, 5, 2, 8, 4, 7, 1, 6, 2, 9])\n",
    "n_samples = 1000\n",
    "sample_means = np.empty(n_samples)\n",
    "for i in range(n_samples):\n",
    "    resampled_X = np.random.choice(X, size=len(X), replace=True)\n",
    "    sample_means[i] = np.mean(resampled_X)\n",
    "confidence_interval = np.percentile(sample_means, [2.5, 97.5])\n",
    "print(\"Bootstrapped 95% Confidence Interval for the Mean:\", confidence_interval)"
   ]
  }
 ],
 "metadata": {
  "colab": {
   "provenance": []
  },
  "kernelspec": {
   "display_name": "Python 3 (ipykernel)",
   "language": "python",
   "name": "python3"
  },
  "language_info": {
   "codemirror_mode": {
    "name": "ipython",
    "version": 3
   },
   "file_extension": ".py",
   "mimetype": "text/x-python",
   "name": "python",
   "nbconvert_exporter": "python",
   "pygments_lexer": "ipython3",
   "version": "3.11.4"
  }
 },
 "nbformat": 4,
 "nbformat_minor": 1
}
